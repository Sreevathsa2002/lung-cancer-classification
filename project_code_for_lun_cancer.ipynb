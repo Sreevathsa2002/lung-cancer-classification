{
  "nbformat": 4,
  "nbformat_minor": 0,
  "metadata": {
    "colab": {
      "provenance": []
    },
    "kernelspec": {
      "name": "python3",
      "display_name": "Python 3"
    },
    "language_info": {
      "name": "python"
    }
  },
  "cells": [
    {
      "cell_type": "markdown",
      "source": [
        "# New section"
      ],
      "metadata": {
        "id": "7Xbb5q2MVVYL"
      }
    },
    {
      "cell_type": "code",
      "execution_count": 42,
      "metadata": {
        "id": "6jpYlGoVUdEc"
      },
      "outputs": [],
      "source": [
        "import numpy as np\n",
        "import pandas as pd\n",
        "import matplotlib.pyplot as plt"
      ]
    },
    {
      "cell_type": "code",
      "source": [
        "df1=pd.read_csv('lung_cancer_examples1.csv')\n",
        "df1"
      ],
      "metadata": {
        "colab": {
          "base_uri": "https://localhost:8080/",
          "height": 423
        },
        "id": "j-gRmxwBVykh",
        "outputId": "e091d352-fb03-4ad4-f09d-ad4ce2ba3060"
      },
      "execution_count": 43,
      "outputs": [
        {
          "output_type": "execute_result",
          "data": {
            "text/plain": [
              "          Name      Surname  Age  Smokes  AreaQ  Alkhol  Result\n",
              "0         John         Wick   35       3      5       4       1\n",
              "1         John  Constantine   27      20      2       5       1\n",
              "2       Camela     Anderson   30       0      5       2       0\n",
              "3         Alex       Telles   28       0      8       1       0\n",
              "4        Diego     Maradona   68       4      5       6       1\n",
              "..         ...          ...  ...     ...    ...     ...     ...\n",
              "172    Ernest      Borgnine   65      15      6       1       1\n",
              "173      Alec      Guinness   87      20      5       4       1\n",
              "174  Charlton        Heston   85      25      3       9       0\n",
              "175   Gregory          Peck   53      30      3       8       1\n",
              "176    Sidney       Poitier   61      35      9       0       0\n",
              "\n",
              "[177 rows x 7 columns]"
            ],
            "text/html": [
              "\n",
              "  <div id=\"df-8c94c546-a177-470d-89ad-6c7bf5bdb098\" class=\"colab-df-container\">\n",
              "    <div>\n",
              "<style scoped>\n",
              "    .dataframe tbody tr th:only-of-type {\n",
              "        vertical-align: middle;\n",
              "    }\n",
              "\n",
              "    .dataframe tbody tr th {\n",
              "        vertical-align: top;\n",
              "    }\n",
              "\n",
              "    .dataframe thead th {\n",
              "        text-align: right;\n",
              "    }\n",
              "</style>\n",
              "<table border=\"1\" class=\"dataframe\">\n",
              "  <thead>\n",
              "    <tr style=\"text-align: right;\">\n",
              "      <th></th>\n",
              "      <th>Name</th>\n",
              "      <th>Surname</th>\n",
              "      <th>Age</th>\n",
              "      <th>Smokes</th>\n",
              "      <th>AreaQ</th>\n",
              "      <th>Alkhol</th>\n",
              "      <th>Result</th>\n",
              "    </tr>\n",
              "  </thead>\n",
              "  <tbody>\n",
              "    <tr>\n",
              "      <th>0</th>\n",
              "      <td>John</td>\n",
              "      <td>Wick</td>\n",
              "      <td>35</td>\n",
              "      <td>3</td>\n",
              "      <td>5</td>\n",
              "      <td>4</td>\n",
              "      <td>1</td>\n",
              "    </tr>\n",
              "    <tr>\n",
              "      <th>1</th>\n",
              "      <td>John</td>\n",
              "      <td>Constantine</td>\n",
              "      <td>27</td>\n",
              "      <td>20</td>\n",
              "      <td>2</td>\n",
              "      <td>5</td>\n",
              "      <td>1</td>\n",
              "    </tr>\n",
              "    <tr>\n",
              "      <th>2</th>\n",
              "      <td>Camela</td>\n",
              "      <td>Anderson</td>\n",
              "      <td>30</td>\n",
              "      <td>0</td>\n",
              "      <td>5</td>\n",
              "      <td>2</td>\n",
              "      <td>0</td>\n",
              "    </tr>\n",
              "    <tr>\n",
              "      <th>3</th>\n",
              "      <td>Alex</td>\n",
              "      <td>Telles</td>\n",
              "      <td>28</td>\n",
              "      <td>0</td>\n",
              "      <td>8</td>\n",
              "      <td>1</td>\n",
              "      <td>0</td>\n",
              "    </tr>\n",
              "    <tr>\n",
              "      <th>4</th>\n",
              "      <td>Diego</td>\n",
              "      <td>Maradona</td>\n",
              "      <td>68</td>\n",
              "      <td>4</td>\n",
              "      <td>5</td>\n",
              "      <td>6</td>\n",
              "      <td>1</td>\n",
              "    </tr>\n",
              "    <tr>\n",
              "      <th>...</th>\n",
              "      <td>...</td>\n",
              "      <td>...</td>\n",
              "      <td>...</td>\n",
              "      <td>...</td>\n",
              "      <td>...</td>\n",
              "      <td>...</td>\n",
              "      <td>...</td>\n",
              "    </tr>\n",
              "    <tr>\n",
              "      <th>172</th>\n",
              "      <td>Ernest</td>\n",
              "      <td>Borgnine</td>\n",
              "      <td>65</td>\n",
              "      <td>15</td>\n",
              "      <td>6</td>\n",
              "      <td>1</td>\n",
              "      <td>1</td>\n",
              "    </tr>\n",
              "    <tr>\n",
              "      <th>173</th>\n",
              "      <td>Alec</td>\n",
              "      <td>Guinness</td>\n",
              "      <td>87</td>\n",
              "      <td>20</td>\n",
              "      <td>5</td>\n",
              "      <td>4</td>\n",
              "      <td>1</td>\n",
              "    </tr>\n",
              "    <tr>\n",
              "      <th>174</th>\n",
              "      <td>Charlton</td>\n",
              "      <td>Heston</td>\n",
              "      <td>85</td>\n",
              "      <td>25</td>\n",
              "      <td>3</td>\n",
              "      <td>9</td>\n",
              "      <td>0</td>\n",
              "    </tr>\n",
              "    <tr>\n",
              "      <th>175</th>\n",
              "      <td>Gregory</td>\n",
              "      <td>Peck</td>\n",
              "      <td>53</td>\n",
              "      <td>30</td>\n",
              "      <td>3</td>\n",
              "      <td>8</td>\n",
              "      <td>1</td>\n",
              "    </tr>\n",
              "    <tr>\n",
              "      <th>176</th>\n",
              "      <td>Sidney</td>\n",
              "      <td>Poitier</td>\n",
              "      <td>61</td>\n",
              "      <td>35</td>\n",
              "      <td>9</td>\n",
              "      <td>0</td>\n",
              "      <td>0</td>\n",
              "    </tr>\n",
              "  </tbody>\n",
              "</table>\n",
              "<p>177 rows × 7 columns</p>\n",
              "</div>\n",
              "    <div class=\"colab-df-buttons\">\n",
              "\n",
              "  <div class=\"colab-df-container\">\n",
              "    <button class=\"colab-df-convert\" onclick=\"convertToInteractive('df-8c94c546-a177-470d-89ad-6c7bf5bdb098')\"\n",
              "            title=\"Convert this dataframe to an interactive table.\"\n",
              "            style=\"display:none;\">\n",
              "\n",
              "  <svg xmlns=\"http://www.w3.org/2000/svg\" height=\"24px\" viewBox=\"0 -960 960 960\">\n",
              "    <path d=\"M120-120v-720h720v720H120Zm60-500h600v-160H180v160Zm220 220h160v-160H400v160Zm0 220h160v-160H400v160ZM180-400h160v-160H180v160Zm440 0h160v-160H620v160ZM180-180h160v-160H180v160Zm440 0h160v-160H620v160Z\"/>\n",
              "  </svg>\n",
              "    </button>\n",
              "\n",
              "  <style>\n",
              "    .colab-df-container {\n",
              "      display:flex;\n",
              "      gap: 12px;\n",
              "    }\n",
              "\n",
              "    .colab-df-convert {\n",
              "      background-color: #E8F0FE;\n",
              "      border: none;\n",
              "      border-radius: 50%;\n",
              "      cursor: pointer;\n",
              "      display: none;\n",
              "      fill: #1967D2;\n",
              "      height: 32px;\n",
              "      padding: 0 0 0 0;\n",
              "      width: 32px;\n",
              "    }\n",
              "\n",
              "    .colab-df-convert:hover {\n",
              "      background-color: #E2EBFA;\n",
              "      box-shadow: 0px 1px 2px rgba(60, 64, 67, 0.3), 0px 1px 3px 1px rgba(60, 64, 67, 0.15);\n",
              "      fill: #174EA6;\n",
              "    }\n",
              "\n",
              "    .colab-df-buttons div {\n",
              "      margin-bottom: 4px;\n",
              "    }\n",
              "\n",
              "    [theme=dark] .colab-df-convert {\n",
              "      background-color: #3B4455;\n",
              "      fill: #D2E3FC;\n",
              "    }\n",
              "\n",
              "    [theme=dark] .colab-df-convert:hover {\n",
              "      background-color: #434B5C;\n",
              "      box-shadow: 0px 1px 3px 1px rgba(0, 0, 0, 0.15);\n",
              "      filter: drop-shadow(0px 1px 2px rgba(0, 0, 0, 0.3));\n",
              "      fill: #FFFFFF;\n",
              "    }\n",
              "  </style>\n",
              "\n",
              "    <script>\n",
              "      const buttonEl =\n",
              "        document.querySelector('#df-8c94c546-a177-470d-89ad-6c7bf5bdb098 button.colab-df-convert');\n",
              "      buttonEl.style.display =\n",
              "        google.colab.kernel.accessAllowed ? 'block' : 'none';\n",
              "\n",
              "      async function convertToInteractive(key) {\n",
              "        const element = document.querySelector('#df-8c94c546-a177-470d-89ad-6c7bf5bdb098');\n",
              "        const dataTable =\n",
              "          await google.colab.kernel.invokeFunction('convertToInteractive',\n",
              "                                                    [key], {});\n",
              "        if (!dataTable) return;\n",
              "\n",
              "        const docLinkHtml = 'Like what you see? Visit the ' +\n",
              "          '<a target=\"_blank\" href=https://colab.research.google.com/notebooks/data_table.ipynb>data table notebook</a>'\n",
              "          + ' to learn more about interactive tables.';\n",
              "        element.innerHTML = '';\n",
              "        dataTable['output_type'] = 'display_data';\n",
              "        await google.colab.output.renderOutput(dataTable, element);\n",
              "        const docLink = document.createElement('div');\n",
              "        docLink.innerHTML = docLinkHtml;\n",
              "        element.appendChild(docLink);\n",
              "      }\n",
              "    </script>\n",
              "  </div>\n",
              "\n",
              "\n",
              "<div id=\"df-2317bade-3297-47da-a8f9-e76d82677e54\">\n",
              "  <button class=\"colab-df-quickchart\" onclick=\"quickchart('df-2317bade-3297-47da-a8f9-e76d82677e54')\"\n",
              "            title=\"Suggest charts\"\n",
              "            style=\"display:none;\">\n",
              "\n",
              "<svg xmlns=\"http://www.w3.org/2000/svg\" height=\"24px\"viewBox=\"0 0 24 24\"\n",
              "     width=\"24px\">\n",
              "    <g>\n",
              "        <path d=\"M19 3H5c-1.1 0-2 .9-2 2v14c0 1.1.9 2 2 2h14c1.1 0 2-.9 2-2V5c0-1.1-.9-2-2-2zM9 17H7v-7h2v7zm4 0h-2V7h2v10zm4 0h-2v-4h2v4z\"/>\n",
              "    </g>\n",
              "</svg>\n",
              "  </button>\n",
              "\n",
              "<style>\n",
              "  .colab-df-quickchart {\n",
              "      --bg-color: #E8F0FE;\n",
              "      --fill-color: #1967D2;\n",
              "      --hover-bg-color: #E2EBFA;\n",
              "      --hover-fill-color: #174EA6;\n",
              "      --disabled-fill-color: #AAA;\n",
              "      --disabled-bg-color: #DDD;\n",
              "  }\n",
              "\n",
              "  [theme=dark] .colab-df-quickchart {\n",
              "      --bg-color: #3B4455;\n",
              "      --fill-color: #D2E3FC;\n",
              "      --hover-bg-color: #434B5C;\n",
              "      --hover-fill-color: #FFFFFF;\n",
              "      --disabled-bg-color: #3B4455;\n",
              "      --disabled-fill-color: #666;\n",
              "  }\n",
              "\n",
              "  .colab-df-quickchart {\n",
              "    background-color: var(--bg-color);\n",
              "    border: none;\n",
              "    border-radius: 50%;\n",
              "    cursor: pointer;\n",
              "    display: none;\n",
              "    fill: var(--fill-color);\n",
              "    height: 32px;\n",
              "    padding: 0;\n",
              "    width: 32px;\n",
              "  }\n",
              "\n",
              "  .colab-df-quickchart:hover {\n",
              "    background-color: var(--hover-bg-color);\n",
              "    box-shadow: 0 1px 2px rgba(60, 64, 67, 0.3), 0 1px 3px 1px rgba(60, 64, 67, 0.15);\n",
              "    fill: var(--button-hover-fill-color);\n",
              "  }\n",
              "\n",
              "  .colab-df-quickchart-complete:disabled,\n",
              "  .colab-df-quickchart-complete:disabled:hover {\n",
              "    background-color: var(--disabled-bg-color);\n",
              "    fill: var(--disabled-fill-color);\n",
              "    box-shadow: none;\n",
              "  }\n",
              "\n",
              "  .colab-df-spinner {\n",
              "    border: 2px solid var(--fill-color);\n",
              "    border-color: transparent;\n",
              "    border-bottom-color: var(--fill-color);\n",
              "    animation:\n",
              "      spin 1s steps(1) infinite;\n",
              "  }\n",
              "\n",
              "  @keyframes spin {\n",
              "    0% {\n",
              "      border-color: transparent;\n",
              "      border-bottom-color: var(--fill-color);\n",
              "      border-left-color: var(--fill-color);\n",
              "    }\n",
              "    20% {\n",
              "      border-color: transparent;\n",
              "      border-left-color: var(--fill-color);\n",
              "      border-top-color: var(--fill-color);\n",
              "    }\n",
              "    30% {\n",
              "      border-color: transparent;\n",
              "      border-left-color: var(--fill-color);\n",
              "      border-top-color: var(--fill-color);\n",
              "      border-right-color: var(--fill-color);\n",
              "    }\n",
              "    40% {\n",
              "      border-color: transparent;\n",
              "      border-right-color: var(--fill-color);\n",
              "      border-top-color: var(--fill-color);\n",
              "    }\n",
              "    60% {\n",
              "      border-color: transparent;\n",
              "      border-right-color: var(--fill-color);\n",
              "    }\n",
              "    80% {\n",
              "      border-color: transparent;\n",
              "      border-right-color: var(--fill-color);\n",
              "      border-bottom-color: var(--fill-color);\n",
              "    }\n",
              "    90% {\n",
              "      border-color: transparent;\n",
              "      border-bottom-color: var(--fill-color);\n",
              "    }\n",
              "  }\n",
              "</style>\n",
              "\n",
              "  <script>\n",
              "    async function quickchart(key) {\n",
              "      const quickchartButtonEl =\n",
              "        document.querySelector('#' + key + ' button');\n",
              "      quickchartButtonEl.disabled = true;  // To prevent multiple clicks.\n",
              "      quickchartButtonEl.classList.add('colab-df-spinner');\n",
              "      try {\n",
              "        const charts = await google.colab.kernel.invokeFunction(\n",
              "            'suggestCharts', [key], {});\n",
              "      } catch (error) {\n",
              "        console.error('Error during call to suggestCharts:', error);\n",
              "      }\n",
              "      quickchartButtonEl.classList.remove('colab-df-spinner');\n",
              "      quickchartButtonEl.classList.add('colab-df-quickchart-complete');\n",
              "    }\n",
              "    (() => {\n",
              "      let quickchartButtonEl =\n",
              "        document.querySelector('#df-2317bade-3297-47da-a8f9-e76d82677e54 button');\n",
              "      quickchartButtonEl.style.display =\n",
              "        google.colab.kernel.accessAllowed ? 'block' : 'none';\n",
              "    })();\n",
              "  </script>\n",
              "</div>\n",
              "\n",
              "  <div id=\"id_29560688-050f-4a44-ae8b-bb8c0006cbcd\">\n",
              "    <style>\n",
              "      .colab-df-generate {\n",
              "        background-color: #E8F0FE;\n",
              "        border: none;\n",
              "        border-radius: 50%;\n",
              "        cursor: pointer;\n",
              "        display: none;\n",
              "        fill: #1967D2;\n",
              "        height: 32px;\n",
              "        padding: 0 0 0 0;\n",
              "        width: 32px;\n",
              "      }\n",
              "\n",
              "      .colab-df-generate:hover {\n",
              "        background-color: #E2EBFA;\n",
              "        box-shadow: 0px 1px 2px rgba(60, 64, 67, 0.3), 0px 1px 3px 1px rgba(60, 64, 67, 0.15);\n",
              "        fill: #174EA6;\n",
              "      }\n",
              "\n",
              "      [theme=dark] .colab-df-generate {\n",
              "        background-color: #3B4455;\n",
              "        fill: #D2E3FC;\n",
              "      }\n",
              "\n",
              "      [theme=dark] .colab-df-generate:hover {\n",
              "        background-color: #434B5C;\n",
              "        box-shadow: 0px 1px 3px 1px rgba(0, 0, 0, 0.15);\n",
              "        filter: drop-shadow(0px 1px 2px rgba(0, 0, 0, 0.3));\n",
              "        fill: #FFFFFF;\n",
              "      }\n",
              "    </style>\n",
              "    <button class=\"colab-df-generate\" onclick=\"generateWithVariable('df1')\"\n",
              "            title=\"Generate code using this dataframe.\"\n",
              "            style=\"display:none;\">\n",
              "\n",
              "  <svg xmlns=\"http://www.w3.org/2000/svg\" height=\"24px\"viewBox=\"0 0 24 24\"\n",
              "       width=\"24px\">\n",
              "    <path d=\"M7,19H8.4L18.45,9,17,7.55,7,17.6ZM5,21V16.75L18.45,3.32a2,2,0,0,1,2.83,0l1.4,1.43a1.91,1.91,0,0,1,.58,1.4,1.91,1.91,0,0,1-.58,1.4L9.25,21ZM18.45,9,17,7.55Zm-12,3A5.31,5.31,0,0,0,4.9,8.1,5.31,5.31,0,0,0,1,6.5,5.31,5.31,0,0,0,4.9,4.9,5.31,5.31,0,0,0,6.5,1,5.31,5.31,0,0,0,8.1,4.9,5.31,5.31,0,0,0,12,6.5,5.46,5.46,0,0,0,6.5,12Z\"/>\n",
              "  </svg>\n",
              "    </button>\n",
              "    <script>\n",
              "      (() => {\n",
              "      const buttonEl =\n",
              "        document.querySelector('#id_29560688-050f-4a44-ae8b-bb8c0006cbcd button.colab-df-generate');\n",
              "      buttonEl.style.display =\n",
              "        google.colab.kernel.accessAllowed ? 'block' : 'none';\n",
              "\n",
              "      buttonEl.onclick = () => {\n",
              "        google.colab.notebook.generateWithVariable('df1');\n",
              "      }\n",
              "      })();\n",
              "    </script>\n",
              "  </div>\n",
              "\n",
              "    </div>\n",
              "  </div>\n"
            ]
          },
          "metadata": {},
          "execution_count": 43
        }
      ]
    },
    {
      "cell_type": "code",
      "source": [
        "#𝘋𝘳𝘰𝘱𝘪𝘯𝘨 𝘶𝘯𝘸𝘢𝘯𝘵𝘦𝘥 𝘤𝘰𝘭𝘶𝘮𝘯𝘴\n",
        "df=df1.drop(['Name','Surname'],axis=1)\n",
        "df"
      ],
      "metadata": {
        "colab": {
          "base_uri": "https://localhost:8080/",
          "height": 423
        },
        "id": "h_pwIS1cV4vs",
        "outputId": "47f9be6a-16fd-480b-875e-aa2a73384059"
      },
      "execution_count": 44,
      "outputs": [
        {
          "output_type": "execute_result",
          "data": {
            "text/plain": [
              "     Age  Smokes  AreaQ  Alkhol  Result\n",
              "0     35       3      5       4       1\n",
              "1     27      20      2       5       1\n",
              "2     30       0      5       2       0\n",
              "3     28       0      8       1       0\n",
              "4     68       4      5       6       1\n",
              "..   ...     ...    ...     ...     ...\n",
              "172   65      15      6       1       1\n",
              "173   87      20      5       4       1\n",
              "174   85      25      3       9       0\n",
              "175   53      30      3       8       1\n",
              "176   61      35      9       0       0\n",
              "\n",
              "[177 rows x 5 columns]"
            ],
            "text/html": [
              "\n",
              "  <div id=\"df-30222a31-8e74-47ec-a0a4-c980417361ea\" class=\"colab-df-container\">\n",
              "    <div>\n",
              "<style scoped>\n",
              "    .dataframe tbody tr th:only-of-type {\n",
              "        vertical-align: middle;\n",
              "    }\n",
              "\n",
              "    .dataframe tbody tr th {\n",
              "        vertical-align: top;\n",
              "    }\n",
              "\n",
              "    .dataframe thead th {\n",
              "        text-align: right;\n",
              "    }\n",
              "</style>\n",
              "<table border=\"1\" class=\"dataframe\">\n",
              "  <thead>\n",
              "    <tr style=\"text-align: right;\">\n",
              "      <th></th>\n",
              "      <th>Age</th>\n",
              "      <th>Smokes</th>\n",
              "      <th>AreaQ</th>\n",
              "      <th>Alkhol</th>\n",
              "      <th>Result</th>\n",
              "    </tr>\n",
              "  </thead>\n",
              "  <tbody>\n",
              "    <tr>\n",
              "      <th>0</th>\n",
              "      <td>35</td>\n",
              "      <td>3</td>\n",
              "      <td>5</td>\n",
              "      <td>4</td>\n",
              "      <td>1</td>\n",
              "    </tr>\n",
              "    <tr>\n",
              "      <th>1</th>\n",
              "      <td>27</td>\n",
              "      <td>20</td>\n",
              "      <td>2</td>\n",
              "      <td>5</td>\n",
              "      <td>1</td>\n",
              "    </tr>\n",
              "    <tr>\n",
              "      <th>2</th>\n",
              "      <td>30</td>\n",
              "      <td>0</td>\n",
              "      <td>5</td>\n",
              "      <td>2</td>\n",
              "      <td>0</td>\n",
              "    </tr>\n",
              "    <tr>\n",
              "      <th>3</th>\n",
              "      <td>28</td>\n",
              "      <td>0</td>\n",
              "      <td>8</td>\n",
              "      <td>1</td>\n",
              "      <td>0</td>\n",
              "    </tr>\n",
              "    <tr>\n",
              "      <th>4</th>\n",
              "      <td>68</td>\n",
              "      <td>4</td>\n",
              "      <td>5</td>\n",
              "      <td>6</td>\n",
              "      <td>1</td>\n",
              "    </tr>\n",
              "    <tr>\n",
              "      <th>...</th>\n",
              "      <td>...</td>\n",
              "      <td>...</td>\n",
              "      <td>...</td>\n",
              "      <td>...</td>\n",
              "      <td>...</td>\n",
              "    </tr>\n",
              "    <tr>\n",
              "      <th>172</th>\n",
              "      <td>65</td>\n",
              "      <td>15</td>\n",
              "      <td>6</td>\n",
              "      <td>1</td>\n",
              "      <td>1</td>\n",
              "    </tr>\n",
              "    <tr>\n",
              "      <th>173</th>\n",
              "      <td>87</td>\n",
              "      <td>20</td>\n",
              "      <td>5</td>\n",
              "      <td>4</td>\n",
              "      <td>1</td>\n",
              "    </tr>\n",
              "    <tr>\n",
              "      <th>174</th>\n",
              "      <td>85</td>\n",
              "      <td>25</td>\n",
              "      <td>3</td>\n",
              "      <td>9</td>\n",
              "      <td>0</td>\n",
              "    </tr>\n",
              "    <tr>\n",
              "      <th>175</th>\n",
              "      <td>53</td>\n",
              "      <td>30</td>\n",
              "      <td>3</td>\n",
              "      <td>8</td>\n",
              "      <td>1</td>\n",
              "    </tr>\n",
              "    <tr>\n",
              "      <th>176</th>\n",
              "      <td>61</td>\n",
              "      <td>35</td>\n",
              "      <td>9</td>\n",
              "      <td>0</td>\n",
              "      <td>0</td>\n",
              "    </tr>\n",
              "  </tbody>\n",
              "</table>\n",
              "<p>177 rows × 5 columns</p>\n",
              "</div>\n",
              "    <div class=\"colab-df-buttons\">\n",
              "\n",
              "  <div class=\"colab-df-container\">\n",
              "    <button class=\"colab-df-convert\" onclick=\"convertToInteractive('df-30222a31-8e74-47ec-a0a4-c980417361ea')\"\n",
              "            title=\"Convert this dataframe to an interactive table.\"\n",
              "            style=\"display:none;\">\n",
              "\n",
              "  <svg xmlns=\"http://www.w3.org/2000/svg\" height=\"24px\" viewBox=\"0 -960 960 960\">\n",
              "    <path d=\"M120-120v-720h720v720H120Zm60-500h600v-160H180v160Zm220 220h160v-160H400v160Zm0 220h160v-160H400v160ZM180-400h160v-160H180v160Zm440 0h160v-160H620v160ZM180-180h160v-160H180v160Zm440 0h160v-160H620v160Z\"/>\n",
              "  </svg>\n",
              "    </button>\n",
              "\n",
              "  <style>\n",
              "    .colab-df-container {\n",
              "      display:flex;\n",
              "      gap: 12px;\n",
              "    }\n",
              "\n",
              "    .colab-df-convert {\n",
              "      background-color: #E8F0FE;\n",
              "      border: none;\n",
              "      border-radius: 50%;\n",
              "      cursor: pointer;\n",
              "      display: none;\n",
              "      fill: #1967D2;\n",
              "      height: 32px;\n",
              "      padding: 0 0 0 0;\n",
              "      width: 32px;\n",
              "    }\n",
              "\n",
              "    .colab-df-convert:hover {\n",
              "      background-color: #E2EBFA;\n",
              "      box-shadow: 0px 1px 2px rgba(60, 64, 67, 0.3), 0px 1px 3px 1px rgba(60, 64, 67, 0.15);\n",
              "      fill: #174EA6;\n",
              "    }\n",
              "\n",
              "    .colab-df-buttons div {\n",
              "      margin-bottom: 4px;\n",
              "    }\n",
              "\n",
              "    [theme=dark] .colab-df-convert {\n",
              "      background-color: #3B4455;\n",
              "      fill: #D2E3FC;\n",
              "    }\n",
              "\n",
              "    [theme=dark] .colab-df-convert:hover {\n",
              "      background-color: #434B5C;\n",
              "      box-shadow: 0px 1px 3px 1px rgba(0, 0, 0, 0.15);\n",
              "      filter: drop-shadow(0px 1px 2px rgba(0, 0, 0, 0.3));\n",
              "      fill: #FFFFFF;\n",
              "    }\n",
              "  </style>\n",
              "\n",
              "    <script>\n",
              "      const buttonEl =\n",
              "        document.querySelector('#df-30222a31-8e74-47ec-a0a4-c980417361ea button.colab-df-convert');\n",
              "      buttonEl.style.display =\n",
              "        google.colab.kernel.accessAllowed ? 'block' : 'none';\n",
              "\n",
              "      async function convertToInteractive(key) {\n",
              "        const element = document.querySelector('#df-30222a31-8e74-47ec-a0a4-c980417361ea');\n",
              "        const dataTable =\n",
              "          await google.colab.kernel.invokeFunction('convertToInteractive',\n",
              "                                                    [key], {});\n",
              "        if (!dataTable) return;\n",
              "\n",
              "        const docLinkHtml = 'Like what you see? Visit the ' +\n",
              "          '<a target=\"_blank\" href=https://colab.research.google.com/notebooks/data_table.ipynb>data table notebook</a>'\n",
              "          + ' to learn more about interactive tables.';\n",
              "        element.innerHTML = '';\n",
              "        dataTable['output_type'] = 'display_data';\n",
              "        await google.colab.output.renderOutput(dataTable, element);\n",
              "        const docLink = document.createElement('div');\n",
              "        docLink.innerHTML = docLinkHtml;\n",
              "        element.appendChild(docLink);\n",
              "      }\n",
              "    </script>\n",
              "  </div>\n",
              "\n",
              "\n",
              "<div id=\"df-a1019748-b492-4e9b-ab32-0e7df583dd53\">\n",
              "  <button class=\"colab-df-quickchart\" onclick=\"quickchart('df-a1019748-b492-4e9b-ab32-0e7df583dd53')\"\n",
              "            title=\"Suggest charts\"\n",
              "            style=\"display:none;\">\n",
              "\n",
              "<svg xmlns=\"http://www.w3.org/2000/svg\" height=\"24px\"viewBox=\"0 0 24 24\"\n",
              "     width=\"24px\">\n",
              "    <g>\n",
              "        <path d=\"M19 3H5c-1.1 0-2 .9-2 2v14c0 1.1.9 2 2 2h14c1.1 0 2-.9 2-2V5c0-1.1-.9-2-2-2zM9 17H7v-7h2v7zm4 0h-2V7h2v10zm4 0h-2v-4h2v4z\"/>\n",
              "    </g>\n",
              "</svg>\n",
              "  </button>\n",
              "\n",
              "<style>\n",
              "  .colab-df-quickchart {\n",
              "      --bg-color: #E8F0FE;\n",
              "      --fill-color: #1967D2;\n",
              "      --hover-bg-color: #E2EBFA;\n",
              "      --hover-fill-color: #174EA6;\n",
              "      --disabled-fill-color: #AAA;\n",
              "      --disabled-bg-color: #DDD;\n",
              "  }\n",
              "\n",
              "  [theme=dark] .colab-df-quickchart {\n",
              "      --bg-color: #3B4455;\n",
              "      --fill-color: #D2E3FC;\n",
              "      --hover-bg-color: #434B5C;\n",
              "      --hover-fill-color: #FFFFFF;\n",
              "      --disabled-bg-color: #3B4455;\n",
              "      --disabled-fill-color: #666;\n",
              "  }\n",
              "\n",
              "  .colab-df-quickchart {\n",
              "    background-color: var(--bg-color);\n",
              "    border: none;\n",
              "    border-radius: 50%;\n",
              "    cursor: pointer;\n",
              "    display: none;\n",
              "    fill: var(--fill-color);\n",
              "    height: 32px;\n",
              "    padding: 0;\n",
              "    width: 32px;\n",
              "  }\n",
              "\n",
              "  .colab-df-quickchart:hover {\n",
              "    background-color: var(--hover-bg-color);\n",
              "    box-shadow: 0 1px 2px rgba(60, 64, 67, 0.3), 0 1px 3px 1px rgba(60, 64, 67, 0.15);\n",
              "    fill: var(--button-hover-fill-color);\n",
              "  }\n",
              "\n",
              "  .colab-df-quickchart-complete:disabled,\n",
              "  .colab-df-quickchart-complete:disabled:hover {\n",
              "    background-color: var(--disabled-bg-color);\n",
              "    fill: var(--disabled-fill-color);\n",
              "    box-shadow: none;\n",
              "  }\n",
              "\n",
              "  .colab-df-spinner {\n",
              "    border: 2px solid var(--fill-color);\n",
              "    border-color: transparent;\n",
              "    border-bottom-color: var(--fill-color);\n",
              "    animation:\n",
              "      spin 1s steps(1) infinite;\n",
              "  }\n",
              "\n",
              "  @keyframes spin {\n",
              "    0% {\n",
              "      border-color: transparent;\n",
              "      border-bottom-color: var(--fill-color);\n",
              "      border-left-color: var(--fill-color);\n",
              "    }\n",
              "    20% {\n",
              "      border-color: transparent;\n",
              "      border-left-color: var(--fill-color);\n",
              "      border-top-color: var(--fill-color);\n",
              "    }\n",
              "    30% {\n",
              "      border-color: transparent;\n",
              "      border-left-color: var(--fill-color);\n",
              "      border-top-color: var(--fill-color);\n",
              "      border-right-color: var(--fill-color);\n",
              "    }\n",
              "    40% {\n",
              "      border-color: transparent;\n",
              "      border-right-color: var(--fill-color);\n",
              "      border-top-color: var(--fill-color);\n",
              "    }\n",
              "    60% {\n",
              "      border-color: transparent;\n",
              "      border-right-color: var(--fill-color);\n",
              "    }\n",
              "    80% {\n",
              "      border-color: transparent;\n",
              "      border-right-color: var(--fill-color);\n",
              "      border-bottom-color: var(--fill-color);\n",
              "    }\n",
              "    90% {\n",
              "      border-color: transparent;\n",
              "      border-bottom-color: var(--fill-color);\n",
              "    }\n",
              "  }\n",
              "</style>\n",
              "\n",
              "  <script>\n",
              "    async function quickchart(key) {\n",
              "      const quickchartButtonEl =\n",
              "        document.querySelector('#' + key + ' button');\n",
              "      quickchartButtonEl.disabled = true;  // To prevent multiple clicks.\n",
              "      quickchartButtonEl.classList.add('colab-df-spinner');\n",
              "      try {\n",
              "        const charts = await google.colab.kernel.invokeFunction(\n",
              "            'suggestCharts', [key], {});\n",
              "      } catch (error) {\n",
              "        console.error('Error during call to suggestCharts:', error);\n",
              "      }\n",
              "      quickchartButtonEl.classList.remove('colab-df-spinner');\n",
              "      quickchartButtonEl.classList.add('colab-df-quickchart-complete');\n",
              "    }\n",
              "    (() => {\n",
              "      let quickchartButtonEl =\n",
              "        document.querySelector('#df-a1019748-b492-4e9b-ab32-0e7df583dd53 button');\n",
              "      quickchartButtonEl.style.display =\n",
              "        google.colab.kernel.accessAllowed ? 'block' : 'none';\n",
              "    })();\n",
              "  </script>\n",
              "</div>\n",
              "\n",
              "  <div id=\"id_aad3afaf-2f2d-46c3-9b52-3676450ff570\">\n",
              "    <style>\n",
              "      .colab-df-generate {\n",
              "        background-color: #E8F0FE;\n",
              "        border: none;\n",
              "        border-radius: 50%;\n",
              "        cursor: pointer;\n",
              "        display: none;\n",
              "        fill: #1967D2;\n",
              "        height: 32px;\n",
              "        padding: 0 0 0 0;\n",
              "        width: 32px;\n",
              "      }\n",
              "\n",
              "      .colab-df-generate:hover {\n",
              "        background-color: #E2EBFA;\n",
              "        box-shadow: 0px 1px 2px rgba(60, 64, 67, 0.3), 0px 1px 3px 1px rgba(60, 64, 67, 0.15);\n",
              "        fill: #174EA6;\n",
              "      }\n",
              "\n",
              "      [theme=dark] .colab-df-generate {\n",
              "        background-color: #3B4455;\n",
              "        fill: #D2E3FC;\n",
              "      }\n",
              "\n",
              "      [theme=dark] .colab-df-generate:hover {\n",
              "        background-color: #434B5C;\n",
              "        box-shadow: 0px 1px 3px 1px rgba(0, 0, 0, 0.15);\n",
              "        filter: drop-shadow(0px 1px 2px rgba(0, 0, 0, 0.3));\n",
              "        fill: #FFFFFF;\n",
              "      }\n",
              "    </style>\n",
              "    <button class=\"colab-df-generate\" onclick=\"generateWithVariable('df')\"\n",
              "            title=\"Generate code using this dataframe.\"\n",
              "            style=\"display:none;\">\n",
              "\n",
              "  <svg xmlns=\"http://www.w3.org/2000/svg\" height=\"24px\"viewBox=\"0 0 24 24\"\n",
              "       width=\"24px\">\n",
              "    <path d=\"M7,19H8.4L18.45,9,17,7.55,7,17.6ZM5,21V16.75L18.45,3.32a2,2,0,0,1,2.83,0l1.4,1.43a1.91,1.91,0,0,1,.58,1.4,1.91,1.91,0,0,1-.58,1.4L9.25,21ZM18.45,9,17,7.55Zm-12,3A5.31,5.31,0,0,0,4.9,8.1,5.31,5.31,0,0,0,1,6.5,5.31,5.31,0,0,0,4.9,4.9,5.31,5.31,0,0,0,6.5,1,5.31,5.31,0,0,0,8.1,4.9,5.31,5.31,0,0,0,12,6.5,5.46,5.46,0,0,0,6.5,12Z\"/>\n",
              "  </svg>\n",
              "    </button>\n",
              "    <script>\n",
              "      (() => {\n",
              "      const buttonEl =\n",
              "        document.querySelector('#id_aad3afaf-2f2d-46c3-9b52-3676450ff570 button.colab-df-generate');\n",
              "      buttonEl.style.display =\n",
              "        google.colab.kernel.accessAllowed ? 'block' : 'none';\n",
              "\n",
              "      buttonEl.onclick = () => {\n",
              "        google.colab.notebook.generateWithVariable('df');\n",
              "      }\n",
              "      })();\n",
              "    </script>\n",
              "  </div>\n",
              "\n",
              "    </div>\n",
              "  </div>\n"
            ]
          },
          "metadata": {},
          "execution_count": 44
        }
      ]
    },
    {
      "cell_type": "code",
      "source": [
        "#𝘊𝘩𝘦𝘤𝘬𝘪𝘯𝘨 𝘧𝘰𝘳 𝘮𝘪𝘴𝘴𝘪𝘯𝘨 𝘷𝘢𝘭𝘶𝘦𝘴\n",
        "df.isna().sum()"
      ],
      "metadata": {
        "colab": {
          "base_uri": "https://localhost:8080/"
        },
        "id": "MJV2QOj_V9Pb",
        "outputId": "cf924707-0958-41f5-8270-4adac4e964bc"
      },
      "execution_count": 45,
      "outputs": [
        {
          "output_type": "execute_result",
          "data": {
            "text/plain": [
              "Age       0\n",
              "Smokes    0\n",
              "AreaQ     0\n",
              "Alkhol    0\n",
              "Result    0\n",
              "dtype: int64"
            ]
          },
          "metadata": {},
          "execution_count": 45
        }
      ]
    },
    {
      "cell_type": "code",
      "source": [
        "#𝘗𝘳𝘪𝘯𝘵𝘪𝘯𝘨 𝘥𝘢𝘵𝘢 𝘵𝘺𝘱𝘦𝘴\n",
        "df.dtypes"
      ],
      "metadata": {
        "colab": {
          "base_uri": "https://localhost:8080/"
        },
        "id": "6Hfmy1ULWCT9",
        "outputId": "c44252e3-f92a-470d-9741-6450ecde4175"
      },
      "execution_count": 46,
      "outputs": [
        {
          "output_type": "execute_result",
          "data": {
            "text/plain": [
              "Age       int64\n",
              "Smokes    int64\n",
              "AreaQ     int64\n",
              "Alkhol    int64\n",
              "Result    int64\n",
              "dtype: object"
            ]
          },
          "metadata": {},
          "execution_count": 46
        }
      ]
    },
    {
      "cell_type": "code",
      "source": [
        "\n",
        "#𝘗𝘳𝘪𝘯𝘵𝘪𝘯𝘨 𝘧𝘪𝘳𝘴𝘵 𝘧𝘪𝘷𝘦 𝘷𝘢𝘭𝘶𝘦𝘴\n",
        "df.head()"
      ],
      "metadata": {
        "colab": {
          "base_uri": "https://localhost:8080/",
          "height": 206
        },
        "id": "wlwevfUvWGi-",
        "outputId": "97abaa87-e288-4a72-da98-e2304bebc532"
      },
      "execution_count": 47,
      "outputs": [
        {
          "output_type": "execute_result",
          "data": {
            "text/plain": [
              "   Age  Smokes  AreaQ  Alkhol  Result\n",
              "0   35       3      5       4       1\n",
              "1   27      20      2       5       1\n",
              "2   30       0      5       2       0\n",
              "3   28       0      8       1       0\n",
              "4   68       4      5       6       1"
            ],
            "text/html": [
              "\n",
              "  <div id=\"df-d4bb1fe8-2b16-462c-aa44-93d25912b49c\" class=\"colab-df-container\">\n",
              "    <div>\n",
              "<style scoped>\n",
              "    .dataframe tbody tr th:only-of-type {\n",
              "        vertical-align: middle;\n",
              "    }\n",
              "\n",
              "    .dataframe tbody tr th {\n",
              "        vertical-align: top;\n",
              "    }\n",
              "\n",
              "    .dataframe thead th {\n",
              "        text-align: right;\n",
              "    }\n",
              "</style>\n",
              "<table border=\"1\" class=\"dataframe\">\n",
              "  <thead>\n",
              "    <tr style=\"text-align: right;\">\n",
              "      <th></th>\n",
              "      <th>Age</th>\n",
              "      <th>Smokes</th>\n",
              "      <th>AreaQ</th>\n",
              "      <th>Alkhol</th>\n",
              "      <th>Result</th>\n",
              "    </tr>\n",
              "  </thead>\n",
              "  <tbody>\n",
              "    <tr>\n",
              "      <th>0</th>\n",
              "      <td>35</td>\n",
              "      <td>3</td>\n",
              "      <td>5</td>\n",
              "      <td>4</td>\n",
              "      <td>1</td>\n",
              "    </tr>\n",
              "    <tr>\n",
              "      <th>1</th>\n",
              "      <td>27</td>\n",
              "      <td>20</td>\n",
              "      <td>2</td>\n",
              "      <td>5</td>\n",
              "      <td>1</td>\n",
              "    </tr>\n",
              "    <tr>\n",
              "      <th>2</th>\n",
              "      <td>30</td>\n",
              "      <td>0</td>\n",
              "      <td>5</td>\n",
              "      <td>2</td>\n",
              "      <td>0</td>\n",
              "    </tr>\n",
              "    <tr>\n",
              "      <th>3</th>\n",
              "      <td>28</td>\n",
              "      <td>0</td>\n",
              "      <td>8</td>\n",
              "      <td>1</td>\n",
              "      <td>0</td>\n",
              "    </tr>\n",
              "    <tr>\n",
              "      <th>4</th>\n",
              "      <td>68</td>\n",
              "      <td>4</td>\n",
              "      <td>5</td>\n",
              "      <td>6</td>\n",
              "      <td>1</td>\n",
              "    </tr>\n",
              "  </tbody>\n",
              "</table>\n",
              "</div>\n",
              "    <div class=\"colab-df-buttons\">\n",
              "\n",
              "  <div class=\"colab-df-container\">\n",
              "    <button class=\"colab-df-convert\" onclick=\"convertToInteractive('df-d4bb1fe8-2b16-462c-aa44-93d25912b49c')\"\n",
              "            title=\"Convert this dataframe to an interactive table.\"\n",
              "            style=\"display:none;\">\n",
              "\n",
              "  <svg xmlns=\"http://www.w3.org/2000/svg\" height=\"24px\" viewBox=\"0 -960 960 960\">\n",
              "    <path d=\"M120-120v-720h720v720H120Zm60-500h600v-160H180v160Zm220 220h160v-160H400v160Zm0 220h160v-160H400v160ZM180-400h160v-160H180v160Zm440 0h160v-160H620v160ZM180-180h160v-160H180v160Zm440 0h160v-160H620v160Z\"/>\n",
              "  </svg>\n",
              "    </button>\n",
              "\n",
              "  <style>\n",
              "    .colab-df-container {\n",
              "      display:flex;\n",
              "      gap: 12px;\n",
              "    }\n",
              "\n",
              "    .colab-df-convert {\n",
              "      background-color: #E8F0FE;\n",
              "      border: none;\n",
              "      border-radius: 50%;\n",
              "      cursor: pointer;\n",
              "      display: none;\n",
              "      fill: #1967D2;\n",
              "      height: 32px;\n",
              "      padding: 0 0 0 0;\n",
              "      width: 32px;\n",
              "    }\n",
              "\n",
              "    .colab-df-convert:hover {\n",
              "      background-color: #E2EBFA;\n",
              "      box-shadow: 0px 1px 2px rgba(60, 64, 67, 0.3), 0px 1px 3px 1px rgba(60, 64, 67, 0.15);\n",
              "      fill: #174EA6;\n",
              "    }\n",
              "\n",
              "    .colab-df-buttons div {\n",
              "      margin-bottom: 4px;\n",
              "    }\n",
              "\n",
              "    [theme=dark] .colab-df-convert {\n",
              "      background-color: #3B4455;\n",
              "      fill: #D2E3FC;\n",
              "    }\n",
              "\n",
              "    [theme=dark] .colab-df-convert:hover {\n",
              "      background-color: #434B5C;\n",
              "      box-shadow: 0px 1px 3px 1px rgba(0, 0, 0, 0.15);\n",
              "      filter: drop-shadow(0px 1px 2px rgba(0, 0, 0, 0.3));\n",
              "      fill: #FFFFFF;\n",
              "    }\n",
              "  </style>\n",
              "\n",
              "    <script>\n",
              "      const buttonEl =\n",
              "        document.querySelector('#df-d4bb1fe8-2b16-462c-aa44-93d25912b49c button.colab-df-convert');\n",
              "      buttonEl.style.display =\n",
              "        google.colab.kernel.accessAllowed ? 'block' : 'none';\n",
              "\n",
              "      async function convertToInteractive(key) {\n",
              "        const element = document.querySelector('#df-d4bb1fe8-2b16-462c-aa44-93d25912b49c');\n",
              "        const dataTable =\n",
              "          await google.colab.kernel.invokeFunction('convertToInteractive',\n",
              "                                                    [key], {});\n",
              "        if (!dataTable) return;\n",
              "\n",
              "        const docLinkHtml = 'Like what you see? Visit the ' +\n",
              "          '<a target=\"_blank\" href=https://colab.research.google.com/notebooks/data_table.ipynb>data table notebook</a>'\n",
              "          + ' to learn more about interactive tables.';\n",
              "        element.innerHTML = '';\n",
              "        dataTable['output_type'] = 'display_data';\n",
              "        await google.colab.output.renderOutput(dataTable, element);\n",
              "        const docLink = document.createElement('div');\n",
              "        docLink.innerHTML = docLinkHtml;\n",
              "        element.appendChild(docLink);\n",
              "      }\n",
              "    </script>\n",
              "  </div>\n",
              "\n",
              "\n",
              "<div id=\"df-eb692360-df36-4e4a-90ff-d83d50e20996\">\n",
              "  <button class=\"colab-df-quickchart\" onclick=\"quickchart('df-eb692360-df36-4e4a-90ff-d83d50e20996')\"\n",
              "            title=\"Suggest charts\"\n",
              "            style=\"display:none;\">\n",
              "\n",
              "<svg xmlns=\"http://www.w3.org/2000/svg\" height=\"24px\"viewBox=\"0 0 24 24\"\n",
              "     width=\"24px\">\n",
              "    <g>\n",
              "        <path d=\"M19 3H5c-1.1 0-2 .9-2 2v14c0 1.1.9 2 2 2h14c1.1 0 2-.9 2-2V5c0-1.1-.9-2-2-2zM9 17H7v-7h2v7zm4 0h-2V7h2v10zm4 0h-2v-4h2v4z\"/>\n",
              "    </g>\n",
              "</svg>\n",
              "  </button>\n",
              "\n",
              "<style>\n",
              "  .colab-df-quickchart {\n",
              "      --bg-color: #E8F0FE;\n",
              "      --fill-color: #1967D2;\n",
              "      --hover-bg-color: #E2EBFA;\n",
              "      --hover-fill-color: #174EA6;\n",
              "      --disabled-fill-color: #AAA;\n",
              "      --disabled-bg-color: #DDD;\n",
              "  }\n",
              "\n",
              "  [theme=dark] .colab-df-quickchart {\n",
              "      --bg-color: #3B4455;\n",
              "      --fill-color: #D2E3FC;\n",
              "      --hover-bg-color: #434B5C;\n",
              "      --hover-fill-color: #FFFFFF;\n",
              "      --disabled-bg-color: #3B4455;\n",
              "      --disabled-fill-color: #666;\n",
              "  }\n",
              "\n",
              "  .colab-df-quickchart {\n",
              "    background-color: var(--bg-color);\n",
              "    border: none;\n",
              "    border-radius: 50%;\n",
              "    cursor: pointer;\n",
              "    display: none;\n",
              "    fill: var(--fill-color);\n",
              "    height: 32px;\n",
              "    padding: 0;\n",
              "    width: 32px;\n",
              "  }\n",
              "\n",
              "  .colab-df-quickchart:hover {\n",
              "    background-color: var(--hover-bg-color);\n",
              "    box-shadow: 0 1px 2px rgba(60, 64, 67, 0.3), 0 1px 3px 1px rgba(60, 64, 67, 0.15);\n",
              "    fill: var(--button-hover-fill-color);\n",
              "  }\n",
              "\n",
              "  .colab-df-quickchart-complete:disabled,\n",
              "  .colab-df-quickchart-complete:disabled:hover {\n",
              "    background-color: var(--disabled-bg-color);\n",
              "    fill: var(--disabled-fill-color);\n",
              "    box-shadow: none;\n",
              "  }\n",
              "\n",
              "  .colab-df-spinner {\n",
              "    border: 2px solid var(--fill-color);\n",
              "    border-color: transparent;\n",
              "    border-bottom-color: var(--fill-color);\n",
              "    animation:\n",
              "      spin 1s steps(1) infinite;\n",
              "  }\n",
              "\n",
              "  @keyframes spin {\n",
              "    0% {\n",
              "      border-color: transparent;\n",
              "      border-bottom-color: var(--fill-color);\n",
              "      border-left-color: var(--fill-color);\n",
              "    }\n",
              "    20% {\n",
              "      border-color: transparent;\n",
              "      border-left-color: var(--fill-color);\n",
              "      border-top-color: var(--fill-color);\n",
              "    }\n",
              "    30% {\n",
              "      border-color: transparent;\n",
              "      border-left-color: var(--fill-color);\n",
              "      border-top-color: var(--fill-color);\n",
              "      border-right-color: var(--fill-color);\n",
              "    }\n",
              "    40% {\n",
              "      border-color: transparent;\n",
              "      border-right-color: var(--fill-color);\n",
              "      border-top-color: var(--fill-color);\n",
              "    }\n",
              "    60% {\n",
              "      border-color: transparent;\n",
              "      border-right-color: var(--fill-color);\n",
              "    }\n",
              "    80% {\n",
              "      border-color: transparent;\n",
              "      border-right-color: var(--fill-color);\n",
              "      border-bottom-color: var(--fill-color);\n",
              "    }\n",
              "    90% {\n",
              "      border-color: transparent;\n",
              "      border-bottom-color: var(--fill-color);\n",
              "    }\n",
              "  }\n",
              "</style>\n",
              "\n",
              "  <script>\n",
              "    async function quickchart(key) {\n",
              "      const quickchartButtonEl =\n",
              "        document.querySelector('#' + key + ' button');\n",
              "      quickchartButtonEl.disabled = true;  // To prevent multiple clicks.\n",
              "      quickchartButtonEl.classList.add('colab-df-spinner');\n",
              "      try {\n",
              "        const charts = await google.colab.kernel.invokeFunction(\n",
              "            'suggestCharts', [key], {});\n",
              "      } catch (error) {\n",
              "        console.error('Error during call to suggestCharts:', error);\n",
              "      }\n",
              "      quickchartButtonEl.classList.remove('colab-df-spinner');\n",
              "      quickchartButtonEl.classList.add('colab-df-quickchart-complete');\n",
              "    }\n",
              "    (() => {\n",
              "      let quickchartButtonEl =\n",
              "        document.querySelector('#df-eb692360-df36-4e4a-90ff-d83d50e20996 button');\n",
              "      quickchartButtonEl.style.display =\n",
              "        google.colab.kernel.accessAllowed ? 'block' : 'none';\n",
              "    })();\n",
              "  </script>\n",
              "</div>\n",
              "\n",
              "    </div>\n",
              "  </div>\n"
            ]
          },
          "metadata": {},
          "execution_count": 47
        }
      ]
    },
    {
      "cell_type": "code",
      "source": [
        "#𝘗𝘳𝘪𝘯𝘵𝘪𝘯𝘨 𝘭𝘢𝘴𝘵 𝘧𝘪𝘷𝘦 𝘷𝘢𝘭𝘶𝘦𝘴\n",
        "df.tail()"
      ],
      "metadata": {
        "colab": {
          "base_uri": "https://localhost:8080/",
          "height": 206
        },
        "id": "ifAWYJpXWIPn",
        "outputId": "6625e7fe-e7f5-460d-9fba-be823badd3f7"
      },
      "execution_count": 48,
      "outputs": [
        {
          "output_type": "execute_result",
          "data": {
            "text/plain": [
              "     Age  Smokes  AreaQ  Alkhol  Result\n",
              "172   65      15      6       1       1\n",
              "173   87      20      5       4       1\n",
              "174   85      25      3       9       0\n",
              "175   53      30      3       8       1\n",
              "176   61      35      9       0       0"
            ],
            "text/html": [
              "\n",
              "  <div id=\"df-f846f8ab-a417-46b6-832c-06a1968703b5\" class=\"colab-df-container\">\n",
              "    <div>\n",
              "<style scoped>\n",
              "    .dataframe tbody tr th:only-of-type {\n",
              "        vertical-align: middle;\n",
              "    }\n",
              "\n",
              "    .dataframe tbody tr th {\n",
              "        vertical-align: top;\n",
              "    }\n",
              "\n",
              "    .dataframe thead th {\n",
              "        text-align: right;\n",
              "    }\n",
              "</style>\n",
              "<table border=\"1\" class=\"dataframe\">\n",
              "  <thead>\n",
              "    <tr style=\"text-align: right;\">\n",
              "      <th></th>\n",
              "      <th>Age</th>\n",
              "      <th>Smokes</th>\n",
              "      <th>AreaQ</th>\n",
              "      <th>Alkhol</th>\n",
              "      <th>Result</th>\n",
              "    </tr>\n",
              "  </thead>\n",
              "  <tbody>\n",
              "    <tr>\n",
              "      <th>172</th>\n",
              "      <td>65</td>\n",
              "      <td>15</td>\n",
              "      <td>6</td>\n",
              "      <td>1</td>\n",
              "      <td>1</td>\n",
              "    </tr>\n",
              "    <tr>\n",
              "      <th>173</th>\n",
              "      <td>87</td>\n",
              "      <td>20</td>\n",
              "      <td>5</td>\n",
              "      <td>4</td>\n",
              "      <td>1</td>\n",
              "    </tr>\n",
              "    <tr>\n",
              "      <th>174</th>\n",
              "      <td>85</td>\n",
              "      <td>25</td>\n",
              "      <td>3</td>\n",
              "      <td>9</td>\n",
              "      <td>0</td>\n",
              "    </tr>\n",
              "    <tr>\n",
              "      <th>175</th>\n",
              "      <td>53</td>\n",
              "      <td>30</td>\n",
              "      <td>3</td>\n",
              "      <td>8</td>\n",
              "      <td>1</td>\n",
              "    </tr>\n",
              "    <tr>\n",
              "      <th>176</th>\n",
              "      <td>61</td>\n",
              "      <td>35</td>\n",
              "      <td>9</td>\n",
              "      <td>0</td>\n",
              "      <td>0</td>\n",
              "    </tr>\n",
              "  </tbody>\n",
              "</table>\n",
              "</div>\n",
              "    <div class=\"colab-df-buttons\">\n",
              "\n",
              "  <div class=\"colab-df-container\">\n",
              "    <button class=\"colab-df-convert\" onclick=\"convertToInteractive('df-f846f8ab-a417-46b6-832c-06a1968703b5')\"\n",
              "            title=\"Convert this dataframe to an interactive table.\"\n",
              "            style=\"display:none;\">\n",
              "\n",
              "  <svg xmlns=\"http://www.w3.org/2000/svg\" height=\"24px\" viewBox=\"0 -960 960 960\">\n",
              "    <path d=\"M120-120v-720h720v720H120Zm60-500h600v-160H180v160Zm220 220h160v-160H400v160Zm0 220h160v-160H400v160ZM180-400h160v-160H180v160Zm440 0h160v-160H620v160ZM180-180h160v-160H180v160Zm440 0h160v-160H620v160Z\"/>\n",
              "  </svg>\n",
              "    </button>\n",
              "\n",
              "  <style>\n",
              "    .colab-df-container {\n",
              "      display:flex;\n",
              "      gap: 12px;\n",
              "    }\n",
              "\n",
              "    .colab-df-convert {\n",
              "      background-color: #E8F0FE;\n",
              "      border: none;\n",
              "      border-radius: 50%;\n",
              "      cursor: pointer;\n",
              "      display: none;\n",
              "      fill: #1967D2;\n",
              "      height: 32px;\n",
              "      padding: 0 0 0 0;\n",
              "      width: 32px;\n",
              "    }\n",
              "\n",
              "    .colab-df-convert:hover {\n",
              "      background-color: #E2EBFA;\n",
              "      box-shadow: 0px 1px 2px rgba(60, 64, 67, 0.3), 0px 1px 3px 1px rgba(60, 64, 67, 0.15);\n",
              "      fill: #174EA6;\n",
              "    }\n",
              "\n",
              "    .colab-df-buttons div {\n",
              "      margin-bottom: 4px;\n",
              "    }\n",
              "\n",
              "    [theme=dark] .colab-df-convert {\n",
              "      background-color: #3B4455;\n",
              "      fill: #D2E3FC;\n",
              "    }\n",
              "\n",
              "    [theme=dark] .colab-df-convert:hover {\n",
              "      background-color: #434B5C;\n",
              "      box-shadow: 0px 1px 3px 1px rgba(0, 0, 0, 0.15);\n",
              "      filter: drop-shadow(0px 1px 2px rgba(0, 0, 0, 0.3));\n",
              "      fill: #FFFFFF;\n",
              "    }\n",
              "  </style>\n",
              "\n",
              "    <script>\n",
              "      const buttonEl =\n",
              "        document.querySelector('#df-f846f8ab-a417-46b6-832c-06a1968703b5 button.colab-df-convert');\n",
              "      buttonEl.style.display =\n",
              "        google.colab.kernel.accessAllowed ? 'block' : 'none';\n",
              "\n",
              "      async function convertToInteractive(key) {\n",
              "        const element = document.querySelector('#df-f846f8ab-a417-46b6-832c-06a1968703b5');\n",
              "        const dataTable =\n",
              "          await google.colab.kernel.invokeFunction('convertToInteractive',\n",
              "                                                    [key], {});\n",
              "        if (!dataTable) return;\n",
              "\n",
              "        const docLinkHtml = 'Like what you see? Visit the ' +\n",
              "          '<a target=\"_blank\" href=https://colab.research.google.com/notebooks/data_table.ipynb>data table notebook</a>'\n",
              "          + ' to learn more about interactive tables.';\n",
              "        element.innerHTML = '';\n",
              "        dataTable['output_type'] = 'display_data';\n",
              "        await google.colab.output.renderOutput(dataTable, element);\n",
              "        const docLink = document.createElement('div');\n",
              "        docLink.innerHTML = docLinkHtml;\n",
              "        element.appendChild(docLink);\n",
              "      }\n",
              "    </script>\n",
              "  </div>\n",
              "\n",
              "\n",
              "<div id=\"df-ea6dcd12-9cb2-45cd-9a8b-32ed02f33e5a\">\n",
              "  <button class=\"colab-df-quickchart\" onclick=\"quickchart('df-ea6dcd12-9cb2-45cd-9a8b-32ed02f33e5a')\"\n",
              "            title=\"Suggest charts\"\n",
              "            style=\"display:none;\">\n",
              "\n",
              "<svg xmlns=\"http://www.w3.org/2000/svg\" height=\"24px\"viewBox=\"0 0 24 24\"\n",
              "     width=\"24px\">\n",
              "    <g>\n",
              "        <path d=\"M19 3H5c-1.1 0-2 .9-2 2v14c0 1.1.9 2 2 2h14c1.1 0 2-.9 2-2V5c0-1.1-.9-2-2-2zM9 17H7v-7h2v7zm4 0h-2V7h2v10zm4 0h-2v-4h2v4z\"/>\n",
              "    </g>\n",
              "</svg>\n",
              "  </button>\n",
              "\n",
              "<style>\n",
              "  .colab-df-quickchart {\n",
              "      --bg-color: #E8F0FE;\n",
              "      --fill-color: #1967D2;\n",
              "      --hover-bg-color: #E2EBFA;\n",
              "      --hover-fill-color: #174EA6;\n",
              "      --disabled-fill-color: #AAA;\n",
              "      --disabled-bg-color: #DDD;\n",
              "  }\n",
              "\n",
              "  [theme=dark] .colab-df-quickchart {\n",
              "      --bg-color: #3B4455;\n",
              "      --fill-color: #D2E3FC;\n",
              "      --hover-bg-color: #434B5C;\n",
              "      --hover-fill-color: #FFFFFF;\n",
              "      --disabled-bg-color: #3B4455;\n",
              "      --disabled-fill-color: #666;\n",
              "  }\n",
              "\n",
              "  .colab-df-quickchart {\n",
              "    background-color: var(--bg-color);\n",
              "    border: none;\n",
              "    border-radius: 50%;\n",
              "    cursor: pointer;\n",
              "    display: none;\n",
              "    fill: var(--fill-color);\n",
              "    height: 32px;\n",
              "    padding: 0;\n",
              "    width: 32px;\n",
              "  }\n",
              "\n",
              "  .colab-df-quickchart:hover {\n",
              "    background-color: var(--hover-bg-color);\n",
              "    box-shadow: 0 1px 2px rgba(60, 64, 67, 0.3), 0 1px 3px 1px rgba(60, 64, 67, 0.15);\n",
              "    fill: var(--button-hover-fill-color);\n",
              "  }\n",
              "\n",
              "  .colab-df-quickchart-complete:disabled,\n",
              "  .colab-df-quickchart-complete:disabled:hover {\n",
              "    background-color: var(--disabled-bg-color);\n",
              "    fill: var(--disabled-fill-color);\n",
              "    box-shadow: none;\n",
              "  }\n",
              "\n",
              "  .colab-df-spinner {\n",
              "    border: 2px solid var(--fill-color);\n",
              "    border-color: transparent;\n",
              "    border-bottom-color: var(--fill-color);\n",
              "    animation:\n",
              "      spin 1s steps(1) infinite;\n",
              "  }\n",
              "\n",
              "  @keyframes spin {\n",
              "    0% {\n",
              "      border-color: transparent;\n",
              "      border-bottom-color: var(--fill-color);\n",
              "      border-left-color: var(--fill-color);\n",
              "    }\n",
              "    20% {\n",
              "      border-color: transparent;\n",
              "      border-left-color: var(--fill-color);\n",
              "      border-top-color: var(--fill-color);\n",
              "    }\n",
              "    30% {\n",
              "      border-color: transparent;\n",
              "      border-left-color: var(--fill-color);\n",
              "      border-top-color: var(--fill-color);\n",
              "      border-right-color: var(--fill-color);\n",
              "    }\n",
              "    40% {\n",
              "      border-color: transparent;\n",
              "      border-right-color: var(--fill-color);\n",
              "      border-top-color: var(--fill-color);\n",
              "    }\n",
              "    60% {\n",
              "      border-color: transparent;\n",
              "      border-right-color: var(--fill-color);\n",
              "    }\n",
              "    80% {\n",
              "      border-color: transparent;\n",
              "      border-right-color: var(--fill-color);\n",
              "      border-bottom-color: var(--fill-color);\n",
              "    }\n",
              "    90% {\n",
              "      border-color: transparent;\n",
              "      border-bottom-color: var(--fill-color);\n",
              "    }\n",
              "  }\n",
              "</style>\n",
              "\n",
              "  <script>\n",
              "    async function quickchart(key) {\n",
              "      const quickchartButtonEl =\n",
              "        document.querySelector('#' + key + ' button');\n",
              "      quickchartButtonEl.disabled = true;  // To prevent multiple clicks.\n",
              "      quickchartButtonEl.classList.add('colab-df-spinner');\n",
              "      try {\n",
              "        const charts = await google.colab.kernel.invokeFunction(\n",
              "            'suggestCharts', [key], {});\n",
              "      } catch (error) {\n",
              "        console.error('Error during call to suggestCharts:', error);\n",
              "      }\n",
              "      quickchartButtonEl.classList.remove('colab-df-spinner');\n",
              "      quickchartButtonEl.classList.add('colab-df-quickchart-complete');\n",
              "    }\n",
              "    (() => {\n",
              "      let quickchartButtonEl =\n",
              "        document.querySelector('#df-ea6dcd12-9cb2-45cd-9a8b-32ed02f33e5a button');\n",
              "      quickchartButtonEl.style.display =\n",
              "        google.colab.kernel.accessAllowed ? 'block' : 'none';\n",
              "    })();\n",
              "  </script>\n",
              "</div>\n",
              "\n",
              "    </div>\n",
              "  </div>\n"
            ]
          },
          "metadata": {},
          "execution_count": 48
        }
      ]
    },
    {
      "cell_type": "code",
      "source": [
        "#𝘕𝘶𝘮𝘣𝘦𝘳 𝘰𝘧 𝘳𝘰𝘸𝘴 𝘢𝘯𝘥 𝘤𝘰𝘭𝘶𝘮𝘯𝘴\n",
        "df.shape"
      ],
      "metadata": {
        "colab": {
          "base_uri": "https://localhost:8080/"
        },
        "id": "d0-HMtASWLcp",
        "outputId": "82a3cfd6-d46e-449a-cb01-88697d7c9414"
      },
      "execution_count": 49,
      "outputs": [
        {
          "output_type": "execute_result",
          "data": {
            "text/plain": [
              "(177, 5)"
            ]
          },
          "metadata": {},
          "execution_count": 49
        }
      ]
    },
    {
      "cell_type": "code",
      "source": [
        "#𝘉𝘢𝘭𝘢𝘯𝘤𝘦𝘥 𝘰𝘳 𝘪𝘮𝘣𝘢𝘭𝘢𝘯𝘤𝘦𝘥\n",
        "df['Result'].value_counts()"
      ],
      "metadata": {
        "colab": {
          "base_uri": "https://localhost:8080/"
        },
        "id": "0js2ys_7WNP8",
        "outputId": "23892486-9453-46b5-f708-0220e9bf95b3"
      },
      "execution_count": 50,
      "outputs": [
        {
          "output_type": "execute_result",
          "data": {
            "text/plain": [
              "0    93\n",
              "1    84\n",
              "Name: Result, dtype: int64"
            ]
          },
          "metadata": {},
          "execution_count": 50
        }
      ]
    },
    {
      "cell_type": "code",
      "source": [
        "#𝘚𝘦𝘱𝘦𝘳𝘢𝘵𝘪𝘯𝘨 𝘪𝘯𝘱𝘶𝘵(𝘢𝘴 𝘹) 𝘢𝘯𝘥 𝘰𝘶𝘵𝘱𝘶𝘵(𝘢𝘴 𝘺)\n",
        "x=df.iloc[:,:-1].values\n",
        "x"
      ],
      "metadata": {
        "colab": {
          "base_uri": "https://localhost:8080/"
        },
        "id": "SDAOY0OqWO58",
        "outputId": "dbc27e37-473e-4cfa-b9c4-2bcdf58519e6"
      },
      "execution_count": 51,
      "outputs": [
        {
          "output_type": "execute_result",
          "data": {
            "text/plain": [
              "array([[35,  3,  5,  4],\n",
              "       [27, 20,  2,  5],\n",
              "       [30,  0,  5,  2],\n",
              "       [28,  0,  8,  1],\n",
              "       [68,  4,  5,  6],\n",
              "       [34,  0, 10,  0],\n",
              "       [58, 15, 10,  0],\n",
              "       [22, 12,  5,  2],\n",
              "       [45,  2,  6,  0],\n",
              "       [52, 18,  4,  5],\n",
              "       [33,  4,  8,  0],\n",
              "       [18, 10,  6,  3],\n",
              "       [25,  2,  5,  1],\n",
              "       [28, 20,  2,  8],\n",
              "       [34, 25,  4,  8],\n",
              "       [39, 18,  8,  1],\n",
              "       [42, 22,  3,  5],\n",
              "       [19, 12,  8,  0],\n",
              "       [62,  5,  4,  3],\n",
              "       [73, 10,  7,  6],\n",
              "       [55, 15,  1,  3],\n",
              "       [33,  8,  8,  1],\n",
              "       [22, 20,  6,  2],\n",
              "       [44,  5,  8,  1],\n",
              "       [77,  3,  2,  6],\n",
              "       [21, 20,  5,  3],\n",
              "       [37, 15,  6,  2],\n",
              "       [34, 12,  8,  0],\n",
              "       [55, 20,  1,  4],\n",
              "       [40, 20,  2,  7],\n",
              "       [36, 13,  5,  2],\n",
              "       [56, 20,  3,  3],\n",
              "       [47, 15,  1,  8],\n",
              "       [62, 25,  3,  4],\n",
              "       [26, 10,  7,  2],\n",
              "       [25, 20,  8,  2],\n",
              "       [59, 20,  3,  4],\n",
              "       [62, 15,  5,  5],\n",
              "       [33, 25,  8,  2],\n",
              "       [37, 10,  5,  3],\n",
              "       [50, 20,  2,  4],\n",
              "       [47, 12,  8,  0],\n",
              "       [69, 20,  5,  4],\n",
              "       [63, 20,  4,  5],\n",
              "       [39, 15,  7,  2],\n",
              "       [21, 20,  8,  3],\n",
              "       [31, 20,  9,  4],\n",
              "       [28, 10,  4,  1],\n",
              "       [53, 20,  6,  3],\n",
              "       [62, 20,  5,  6],\n",
              "       [42, 12,  6,  2],\n",
              "       [44, 30,  1,  6],\n",
              "       [26, 34,  1,  8],\n",
              "       [35, 20,  5,  1],\n",
              "       [26, 13,  6,  1],\n",
              "       [77, 20,  5,  4],\n",
              "       [75, 15,  3,  5],\n",
              "       [43, 30,  3,  8],\n",
              "       [51, 25,  9,  0],\n",
              "       [34,  3,  5,  4],\n",
              "       [28, 20,  2,  5],\n",
              "       [25,  0,  5,  2],\n",
              "       [28,  0,  8,  1],\n",
              "       [69,  4,  5,  6],\n",
              "       [35,  0, 10,  0],\n",
              "       [28, 15, 10,  0],\n",
              "       [32, 12,  5,  2],\n",
              "       [56,  2,  6,  0],\n",
              "       [27, 18,  4,  5],\n",
              "       [43,  4,  8,  0],\n",
              "       [28, 11,  6,  3],\n",
              "       [35,  3,  5,  1],\n",
              "       [38, 25,  2,  8],\n",
              "       [44, 20,  4,  4],\n",
              "       [49, 18,  8,  1],\n",
              "       [32, 22,  3,  3],\n",
              "       [29, 12,  8,  0],\n",
              "       [52,  7,  4,  3],\n",
              "       [62, 12,  7,  6],\n",
              "       [45, 15,  1,  9],\n",
              "       [43,  8,  8,  1],\n",
              "       [33, 20,  6,  2],\n",
              "       [55,  5,  8,  3],\n",
              "       [88,  5,  2,  6],\n",
              "       [31, 20,  5,  3],\n",
              "       [47, 15,  6,  5],\n",
              "       [54, 12,  8,  0],\n",
              "       [35, 20,  1,  4],\n",
              "       [28, 15,  2,  7],\n",
              "       [89, 13,  5,  2],\n",
              "       [24, 15,  3,  3],\n",
              "       [86, 15,  1,  8],\n",
              "       [76, 35,  3,  4],\n",
              "       [45, 10,  7,  1],\n",
              "       [67, 20,  8,  2],\n",
              "       [78, 20,  3,  0],\n",
              "       [27, 20,  5,  5],\n",
              "       [75, 25,  8,  3],\n",
              "       [36, 10,  5,  3],\n",
              "       [47, 30,  2,  5],\n",
              "       [86, 12,  8,  0],\n",
              "       [57, 20,  5,  4],\n",
              "       [38, 25,  4,  8],\n",
              "       [49, 15,  7,  2],\n",
              "       [32, 20,  8,  3],\n",
              "       [41, 20,  9,  4],\n",
              "       [38, 16,  4,  1],\n",
              "       [43, 20,  6,  3],\n",
              "       [72, 20,  5,  7],\n",
              "       [53, 15,  6,  2],\n",
              "       [54, 30,  1,  6],\n",
              "       [36, 25,  1,  8],\n",
              "       [45, 20,  5,  1],\n",
              "       [36, 13,  6,  1],\n",
              "       [87, 20,  5,  5],\n",
              "       [85, 25,  3,  5],\n",
              "       [53, 30,  3,  8],\n",
              "       [61, 25,  9,  1],\n",
              "       [45,  5,  5,  4],\n",
              "       [37, 20,  2,  5],\n",
              "       [40,  0,  5,  2],\n",
              "       [38, 12,  8,  1],\n",
              "       [78,  4,  5,  6],\n",
              "       [54,  0, 10,  4],\n",
              "       [78, 15, 10,  0],\n",
              "       [33, 25,  5,  2],\n",
              "       [55,  2,  6,  5],\n",
              "       [35, 18,  4,  5],\n",
              "       [43,  4,  8,  0],\n",
              "       [28, 24,  6,  3],\n",
              "       [15,  2,  5,  1],\n",
              "       [38, 20,  2,  8],\n",
              "       [44, 25,  4,  9],\n",
              "       [49,  2,  8,  1],\n",
              "       [52, 22,  3,  5],\n",
              "       [29, 12,  8,  0],\n",
              "       [19, 78,  4,  3],\n",
              "       [68, 10,  7,  6],\n",
              "       [53, 25,  1,  4],\n",
              "       [32,  8,  8,  1],\n",
              "       [35, 20,  6,  2],\n",
              "       [65, 10,  8,  3],\n",
              "       [78,  3,  2,  6],\n",
              "       [43, 20,  5,  3],\n",
              "       [38, 20,  6,  5],\n",
              "       [44, 12,  8,  0],\n",
              "       [65, 20,  1,  4],\n",
              "       [50, 25,  2,  7],\n",
              "       [46, 13,  5,  2],\n",
              "       [66, 20,  3,  3],\n",
              "       [57, 15,  1,  9],\n",
              "       [72, 35,  3,  4],\n",
              "       [25, 10,  7,  4],\n",
              "       [45, 20,  8,  2],\n",
              "       [69, 20,  3,  4],\n",
              "       [56, 25,  5,  5],\n",
              "       [44, 25,  8,  2],\n",
              "       [43, 10,  5,  3],\n",
              "       [60, 20,  2,  5],\n",
              "       [57, 24,  8,  0],\n",
              "       [79, 20,  5,  4],\n",
              "       [73, 20,  4,  5],\n",
              "       [49, 15,  7,  4],\n",
              "       [31, 25,  8,  3],\n",
              "       [41, 20,  9,  4],\n",
              "       [38, 15,  4,  2],\n",
              "       [46, 20,  6,  3],\n",
              "       [52, 15,  5,  6],\n",
              "       [52, 12,  6,  6],\n",
              "       [54, 25,  1,  6],\n",
              "       [36, 34,  1,  8],\n",
              "       [45, 20,  5,  1],\n",
              "       [65, 15,  6,  1],\n",
              "       [87, 20,  5,  4],\n",
              "       [85, 25,  3,  9],\n",
              "       [53, 30,  3,  8],\n",
              "       [61, 35,  9,  0]])"
            ]
          },
          "metadata": {},
          "execution_count": 51
        }
      ]
    },
    {
      "cell_type": "code",
      "source": [
        "y=df.iloc[:,-1].values\n",
        "y"
      ],
      "metadata": {
        "colab": {
          "base_uri": "https://localhost:8080/"
        },
        "id": "d89BUG99WRZS",
        "outputId": "a069d5ab-0ace-42cc-ec17-99a886694ed8"
      },
      "execution_count": 52,
      "outputs": [
        {
          "output_type": "execute_result",
          "data": {
            "text/plain": [
              "array([1, 1, 0, 0, 1, 0, 0, 0, 0, 1, 0, 0, 0, 1, 1, 0, 1, 0, 1, 1, 1, 0,\n",
              "       0, 0, 1, 0, 0, 0, 1, 1, 0, 1, 1, 1, 0, 0, 1, 1, 0, 0, 1, 0, 1, 1,\n",
              "       0, 0, 0, 0, 1, 1, 0, 1, 1, 0, 0, 1, 1, 1, 0, 1, 1, 0, 0, 1, 0, 0,\n",
              "       0, 0, 1, 0, 0, 0, 1, 1, 0, 1, 0, 1, 1, 1, 0, 1, 0, 1, 0, 0, 0, 1,\n",
              "       1, 1, 1, 1, 0, 0, 0, 0, 1, 0, 0, 1, 0, 0, 1, 0, 0, 0, 1, 1, 1, 0,\n",
              "       0, 1, 0, 0, 1, 0, 1, 0, 1, 1, 0, 0, 1, 0, 1, 0, 0, 1, 0, 0, 0, 1,\n",
              "       1, 1, 1, 0, 1, 1, 0, 0, 0, 0, 1, 0, 1, 0, 1, 1, 0, 1, 0, 1, 0, 0,\n",
              "       1, 1, 0, 0, 1, 0, 1, 1, 0, 1, 0, 0, 1, 1, 0, 1, 1, 0, 1, 1, 0, 1,\n",
              "       0])"
            ]
          },
          "metadata": {},
          "execution_count": 52
        }
      ]
    },
    {
      "cell_type": "code",
      "source": [
        "from sklearn.model_selection import train_test_split\n",
        "x_train,x_test,y_train,y_test=train_test_split(x,y,test_size=0.20,random_state=42)"
      ],
      "metadata": {
        "id": "Bj_BoOA7WUbW"
      },
      "execution_count": 53,
      "outputs": []
    },
    {
      "cell_type": "code",
      "source": [
        "x_train"
      ],
      "metadata": {
        "colab": {
          "base_uri": "https://localhost:8080/"
        },
        "id": "QzmA1jIFWWzO",
        "outputId": "372d803d-bdd6-477b-80c6-a88550af71d1"
      },
      "execution_count": 54,
      "outputs": [
        {
          "output_type": "execute_result",
          "data": {
            "text/plain": [
              "array([[44, 25,  8,  2],\n",
              "       [19, 78,  4,  3],\n",
              "       [36, 10,  5,  3],\n",
              "       [60, 20,  2,  5],\n",
              "       [33, 25,  8,  2],\n",
              "       [72, 20,  5,  7],\n",
              "       [47, 15,  6,  5],\n",
              "       [27, 18,  4,  5],\n",
              "       [78,  3,  2,  6],\n",
              "       [30,  0,  5,  2],\n",
              "       [86, 12,  8,  0],\n",
              "       [78,  4,  5,  6],\n",
              "       [45, 20,  8,  2],\n",
              "       [44, 30,  1,  6],\n",
              "       [29, 12,  8,  0],\n",
              "       [75, 15,  3,  5],\n",
              "       [37, 15,  6,  2],\n",
              "       [25, 10,  7,  4],\n",
              "       [43,  4,  8,  0],\n",
              "       [32, 20,  8,  3],\n",
              "       [62, 12,  7,  6],\n",
              "       [59, 20,  3,  4],\n",
              "       [45, 10,  7,  1],\n",
              "       [22, 20,  6,  2],\n",
              "       [44, 12,  8,  0],\n",
              "       [75, 25,  8,  3],\n",
              "       [43,  4,  8,  0],\n",
              "       [46, 20,  6,  3],\n",
              "       [18, 10,  6,  3],\n",
              "       [58, 15, 10,  0],\n",
              "       [34, 12,  8,  0],\n",
              "       [43, 20,  5,  3],\n",
              "       [68,  4,  5,  6],\n",
              "       [47, 15,  1,  8],\n",
              "       [78, 20,  3,  0],\n",
              "       [54, 25,  1,  6],\n",
              "       [32, 22,  3,  3],\n",
              "       [33,  4,  8,  0],\n",
              "       [65, 20,  1,  4],\n",
              "       [54,  0, 10,  4],\n",
              "       [35,  3,  5,  4],\n",
              "       [49,  2,  8,  1],\n",
              "       [33, 25,  5,  2],\n",
              "       [35,  0, 10,  0],\n",
              "       [39, 15,  7,  2],\n",
              "       [27, 20,  5,  5],\n",
              "       [55, 20,  1,  4],\n",
              "       [50, 20,  2,  4],\n",
              "       [55,  2,  6,  5],\n",
              "       [21, 20,  5,  3],\n",
              "       [44,  5,  8,  1],\n",
              "       [68, 10,  7,  6],\n",
              "       [33, 20,  6,  2],\n",
              "       [45, 15,  1,  9],\n",
              "       [31, 20,  5,  3],\n",
              "       [37, 10,  5,  3],\n",
              "       [57, 20,  5,  4],\n",
              "       [54, 12,  8,  0],\n",
              "       [40,  0,  5,  2],\n",
              "       [65, 15,  6,  1],\n",
              "       [46, 13,  5,  2],\n",
              "       [28, 10,  4,  1],\n",
              "       [67, 20,  8,  2],\n",
              "       [65, 10,  8,  3],\n",
              "       [38, 15,  4,  2],\n",
              "       [25,  0,  5,  2],\n",
              "       [44, 20,  4,  4],\n",
              "       [62, 25,  3,  4],\n",
              "       [78, 15, 10,  0],\n",
              "       [44, 25,  4,  9],\n",
              "       [53, 25,  1,  4],\n",
              "       [28,  0,  8,  1],\n",
              "       [53, 30,  3,  8],\n",
              "       [45, 20,  5,  1],\n",
              "       [85, 25,  3,  5],\n",
              "       [41, 20,  9,  4],\n",
              "       [35, 20,  5,  1],\n",
              "       [34,  0, 10,  0],\n",
              "       [57, 24,  8,  0],\n",
              "       [28,  0,  8,  1],\n",
              "       [41, 20,  9,  4],\n",
              "       [62, 20,  5,  6],\n",
              "       [25, 20,  8,  2],\n",
              "       [43,  8,  8,  1],\n",
              "       [52,  7,  4,  3],\n",
              "       [26, 10,  7,  2],\n",
              "       [31, 20,  9,  4],\n",
              "       [22, 12,  5,  2],\n",
              "       [63, 20,  4,  5],\n",
              "       [28, 11,  6,  3],\n",
              "       [29, 12,  8,  0],\n",
              "       [54, 30,  1,  6],\n",
              "       [86, 15,  1,  8],\n",
              "       [88,  5,  2,  6],\n",
              "       [56, 25,  5,  5],\n",
              "       [79, 20,  5,  4],\n",
              "       [89, 13,  5,  2],\n",
              "       [45,  2,  6,  0],\n",
              "       [28, 20,  2,  8],\n",
              "       [34,  3,  5,  4],\n",
              "       [31, 25,  8,  3],\n",
              "       [38, 20,  2,  8],\n",
              "       [19, 12,  8,  0],\n",
              "       [38, 25,  2,  8],\n",
              "       [69, 20,  3,  4],\n",
              "       [52, 22,  3,  5],\n",
              "       [50, 25,  2,  7],\n",
              "       [49, 15,  7,  4],\n",
              "       [69,  4,  5,  6],\n",
              "       [26, 13,  6,  1],\n",
              "       [43, 20,  6,  3],\n",
              "       [42, 12,  6,  2],\n",
              "       [85, 25,  3,  9],\n",
              "       [51, 25,  9,  0],\n",
              "       [53, 20,  6,  3],\n",
              "       [28, 15,  2,  7],\n",
              "       [33,  8,  8,  1],\n",
              "       [43, 30,  3,  8],\n",
              "       [45, 20,  5,  1],\n",
              "       [28, 24,  6,  3],\n",
              "       [62, 15,  5,  5],\n",
              "       [43, 10,  5,  3],\n",
              "       [52, 15,  5,  6],\n",
              "       [27, 20,  2,  5],\n",
              "       [26, 34,  1,  8],\n",
              "       [66, 20,  3,  3],\n",
              "       [15,  2,  5,  1],\n",
              "       [72, 35,  3,  4],\n",
              "       [49, 15,  7,  2],\n",
              "       [47, 30,  2,  5],\n",
              "       [53, 30,  3,  8],\n",
              "       [35, 20,  1,  4],\n",
              "       [49, 18,  8,  1],\n",
              "       [38, 12,  8,  1],\n",
              "       [61, 35,  9,  0],\n",
              "       [55, 15,  1,  3],\n",
              "       [35,  3,  5,  1],\n",
              "       [38, 16,  4,  1],\n",
              "       [34, 25,  4,  8],\n",
              "       [76, 35,  3,  4],\n",
              "       [38, 25,  4,  8]])"
            ]
          },
          "metadata": {},
          "execution_count": 54
        }
      ]
    },
    {
      "cell_type": "code",
      "source": [
        "x_test"
      ],
      "metadata": {
        "colab": {
          "base_uri": "https://localhost:8080/"
        },
        "id": "hRquzoR4WbXQ",
        "outputId": "66b8b7a8-5267-4b71-8ebd-460aac0de447"
      },
      "execution_count": 55,
      "outputs": [
        {
          "output_type": "execute_result",
          "data": {
            "text/plain": [
              "array([[73, 10,  7,  6],\n",
              "       [21, 20,  8,  3],\n",
              "       [32,  8,  8,  1],\n",
              "       [36, 13,  5,  2],\n",
              "       [56,  2,  6,  0],\n",
              "       [42, 22,  3,  5],\n",
              "       [37, 20,  2,  5],\n",
              "       [87, 20,  5,  4],\n",
              "       [53, 15,  6,  2],\n",
              "       [35, 20,  6,  2],\n",
              "       [77,  3,  2,  6],\n",
              "       [73, 20,  4,  5],\n",
              "       [47, 12,  8,  0],\n",
              "       [45,  5,  5,  4],\n",
              "       [39, 18,  8,  1],\n",
              "       [36, 25,  1,  8],\n",
              "       [36, 13,  6,  1],\n",
              "       [55,  5,  8,  3],\n",
              "       [52, 18,  4,  5],\n",
              "       [87, 20,  5,  5],\n",
              "       [62,  5,  4,  3],\n",
              "       [32, 12,  5,  2],\n",
              "       [28, 20,  2,  5],\n",
              "       [52, 12,  6,  6],\n",
              "       [36, 34,  1,  8],\n",
              "       [57, 15,  1,  9],\n",
              "       [61, 25,  9,  1],\n",
              "       [28, 15, 10,  0],\n",
              "       [24, 15,  3,  3],\n",
              "       [77, 20,  5,  4],\n",
              "       [40, 20,  2,  7],\n",
              "       [35, 18,  4,  5],\n",
              "       [38, 20,  6,  5],\n",
              "       [56, 20,  3,  3],\n",
              "       [25,  2,  5,  1],\n",
              "       [69, 20,  5,  4]])"
            ]
          },
          "metadata": {},
          "execution_count": 55
        }
      ]
    },
    {
      "cell_type": "code",
      "source": [
        "y_train"
      ],
      "metadata": {
        "colab": {
          "base_uri": "https://localhost:8080/"
        },
        "id": "iqwC8YcSWehb",
        "outputId": "a749d761-0946-4bc3-f253-2509d1baa282"
      },
      "execution_count": 56,
      "outputs": [
        {
          "output_type": "execute_result",
          "data": {
            "text/plain": [
              "array([0, 1, 0, 1, 0, 1, 0, 1, 1, 0, 0, 1, 0, 1, 0, 1, 0, 0, 0, 0, 1, 1,\n",
              "       0, 0, 0, 0, 0, 1, 0, 0, 0, 0, 1, 1, 0, 1, 1, 0, 1, 0, 1, 1, 0, 0,\n",
              "       0, 1, 1, 1, 0, 0, 0, 1, 1, 1, 0, 0, 0, 0, 0, 1, 0, 0, 0, 0, 0, 0,\n",
              "       1, 1, 1, 1, 0, 0, 1, 0, 0, 0, 0, 0, 0, 0, 0, 1, 0, 0, 1, 0, 0, 0,\n",
              "       1, 0, 0, 0, 1, 1, 1, 1, 1, 0, 1, 1, 1, 1, 0, 1, 1, 1, 1, 0, 1, 0,\n",
              "       1, 0, 0, 0, 1, 1, 0, 1, 0, 0, 1, 0, 1, 1, 1, 1, 0, 1, 0, 1, 1, 1,\n",
              "       0, 0, 0, 1, 0, 1, 1, 0, 1])"
            ]
          },
          "metadata": {},
          "execution_count": 56
        }
      ]
    },
    {
      "cell_type": "code",
      "source": [
        "y_test"
      ],
      "metadata": {
        "colab": {
          "base_uri": "https://localhost:8080/"
        },
        "id": "nB8fdC1NWge9",
        "outputId": "5e0a462c-bbc2-41e0-82b9-1da11a9194dc"
      },
      "execution_count": 57,
      "outputs": [
        {
          "output_type": "execute_result",
          "data": {
            "text/plain": [
              "array([1, 0, 0, 0, 0, 1, 1, 1, 0, 0, 1, 1, 0, 1, 0, 1, 0, 0, 1, 1, 1, 0,\n",
              "       1, 0, 1, 0, 0, 0, 1, 1, 1, 1, 1, 1, 0, 1])"
            ]
          },
          "metadata": {},
          "execution_count": 57
        }
      ]
    },
    {
      "cell_type": "code",
      "source": [
        "from sklearn.preprocessing import StandardScaler\n",
        "#𝘴𝘤𝘢𝘭𝘦𝘳 𝘪𝘴 𝘵𝘩𝘦 𝘯𝘢𝘮𝘦 𝘰𝘧 𝘰𝘣𝘫𝘦𝘤𝘵\n",
        "scaler=StandardScaler()\n",
        "scaler.fit(x_train)\n",
        "x_train=scaler.transform(x_train)\n",
        "x_test=scaler.transform(x_test)"
      ],
      "metadata": {
        "id": "hPt6to_YWiFO"
      },
      "execution_count": 58,
      "outputs": []
    },
    {
      "cell_type": "code",
      "source": [
        "#𝘕𝘰𝘳𝘮𝘢𝘭𝘪𝘻𝘦𝘥 𝘵𝘳𝘢𝘪𝘯𝘪𝘯𝘨 𝘥𝘢𝘵𝘢\n",
        "x_train"
      ],
      "metadata": {
        "colab": {
          "base_uri": "https://localhost:8080/"
        },
        "id": "XIL7eVO_Wj7H",
        "outputId": "40752bf0-c341-47f2-adb7-e5618390fc06"
      },
      "execution_count": 59,
      "outputs": [
        {
          "output_type": "execute_result",
          "data": {
            "text/plain": [
              "array([[-0.16022953,  0.85756632,  1.10834628, -0.56497993],\n",
              "       [-1.61218088,  6.17590085, -0.51530905, -0.15854029],\n",
              "       [-0.62485396, -0.6476227 , -0.10939522, -0.15854029],\n",
              "       [ 0.76901934,  0.35583665, -1.32713672,  0.65433901],\n",
              "       [-0.79908812,  0.85756632,  1.10834628, -0.56497993],\n",
              "       [ 1.46595599,  0.35583665, -0.10939522,  1.4672183 ],\n",
              "       [ 0.01400464, -0.14589303,  0.29651862,  0.65433901],\n",
              "       [-1.14755645,  0.15514478, -0.51530905,  0.65433901],\n",
              "       [ 1.81442432, -1.35004424, -1.32713672,  1.06077865],\n",
              "       [-0.97332228, -1.65108204, -0.10939522, -0.56497993],\n",
              "       [ 2.27904875, -0.44693083,  1.10834628, -1.37785923],\n",
              "       [ 1.81442432, -1.2496983 , -0.10939522,  1.06077865],\n",
              "       [-0.10215147,  0.35583665,  1.10834628, -0.56497993],\n",
              "       [-0.16022953,  1.35929599, -1.73305055,  1.06077865],\n",
              "       [-1.03140034, -0.44693083,  1.10834628, -1.37785923],\n",
              "       [ 1.64019015, -0.14589303, -0.92122289,  0.65433901],\n",
              "       [-0.5667759 , -0.14589303,  0.29651862, -0.56497993],\n",
              "       [-1.26371255, -0.6476227 ,  0.70243245,  0.24789936],\n",
              "       [-0.21830758, -1.2496983 ,  1.10834628, -1.37785923],\n",
              "       [-0.85716618,  0.35583665,  1.10834628, -0.15854029],\n",
              "       [ 0.88517545, -0.44693083,  0.70243245,  1.06077865],\n",
              "       [ 0.71094129,  0.35583665, -0.92122289,  0.24789936],\n",
              "       [-0.10215147, -0.6476227 ,  0.70243245, -0.97141958],\n",
              "       [-1.43794672,  0.35583665,  0.29651862, -0.56497993],\n",
              "       [-0.16022953, -0.44693083,  1.10834628, -1.37785923],\n",
              "       [ 1.64019015,  0.85756632,  1.10834628, -0.15854029],\n",
              "       [-0.21830758, -1.2496983 ,  1.10834628, -1.37785923],\n",
              "       [-0.04407342,  0.35583665,  0.29651862, -0.15854029],\n",
              "       [-1.67025893, -0.6476227 ,  0.29651862, -0.15854029],\n",
              "       [ 0.65286323, -0.14589303,  1.92017395, -1.37785923],\n",
              "       [-0.74101007, -0.44693083,  1.10834628, -1.37785923],\n",
              "       [-0.21830758,  0.35583665, -0.10939522, -0.15854029],\n",
              "       [ 1.23364377, -1.2496983 , -0.10939522,  1.06077865],\n",
              "       [ 0.01400464, -0.14589303, -1.73305055,  1.87365795],\n",
              "       [ 1.81442432,  0.35583665, -0.92122289, -1.37785923],\n",
              "       [ 0.42055102,  0.85756632, -1.73305055,  1.06077865],\n",
              "       [-0.85716618,  0.55652852, -0.92122289, -0.15854029],\n",
              "       [-0.79908812, -1.2496983 ,  1.10834628, -1.37785923],\n",
              "       [ 1.05940961,  0.35583665, -1.73305055,  0.24789936],\n",
              "       [ 0.42055102, -1.65108204,  1.92017395,  0.24789936],\n",
              "       [-0.68293201, -1.35004424, -0.10939522,  0.24789936],\n",
              "       [ 0.13016075, -1.45039017,  1.10834628, -0.97141958],\n",
              "       [-0.79908812,  0.85756632, -0.10939522, -0.56497993],\n",
              "       [-0.68293201, -1.65108204,  1.92017395, -1.37785923],\n",
              "       [-0.4506198 , -0.14589303,  0.70243245, -0.56497993],\n",
              "       [-1.14755645,  0.35583665, -0.10939522,  0.65433901],\n",
              "       [ 0.47862907,  0.35583665, -1.73305055,  0.24789936],\n",
              "       [ 0.1882388 ,  0.35583665, -1.32713672,  0.24789936],\n",
              "       [ 0.47862907, -1.45039017,  0.29651862,  0.65433901],\n",
              "       [-1.49602477,  0.35583665, -0.10939522, -0.15854029],\n",
              "       [-0.16022953, -1.14935237,  1.10834628, -0.97141958],\n",
              "       [ 1.23364377, -0.6476227 ,  0.70243245,  1.06077865],\n",
              "       [-0.79908812,  0.35583665,  0.29651862, -0.56497993],\n",
              "       [-0.10215147, -0.14589303, -1.73305055,  2.28009759],\n",
              "       [-0.91524423,  0.35583665, -0.10939522, -0.15854029],\n",
              "       [-0.5667759 , -0.6476227 , -0.10939522, -0.15854029],\n",
              "       [ 0.59478518,  0.35583665, -0.10939522,  0.24789936],\n",
              "       [ 0.42055102, -0.44693083,  1.10834628, -1.37785923],\n",
              "       [-0.39254174, -1.65108204, -0.10939522, -0.56497993],\n",
              "       [ 1.05940961, -0.14589303,  0.29651862, -0.97141958],\n",
              "       [-0.04407342, -0.34658489, -0.10939522, -0.56497993],\n",
              "       [-1.08947839, -0.6476227 , -0.51530905, -0.97141958],\n",
              "       [ 1.17556572,  0.35583665,  1.10834628, -0.56497993],\n",
              "       [ 1.05940961, -0.6476227 ,  1.10834628, -0.15854029],\n",
              "       [-0.50869785, -0.14589303, -0.51530905, -0.56497993],\n",
              "       [-1.26371255, -1.65108204, -0.10939522, -0.56497993],\n",
              "       [-0.16022953,  0.35583665, -0.51530905,  0.24789936],\n",
              "       [ 0.88517545,  0.85756632, -0.92122289,  0.24789936],\n",
              "       [ 1.81442432, -0.14589303,  1.92017395, -1.37785923],\n",
              "       [-0.16022953,  0.85756632, -0.51530905,  2.28009759],\n",
              "       [ 0.36247296,  0.85756632, -1.73305055,  0.24789936],\n",
              "       [-1.08947839, -1.65108204,  1.10834628, -0.97141958],\n",
              "       [ 0.36247296,  1.35929599, -0.92122289,  1.87365795],\n",
              "       [-0.10215147,  0.35583665, -0.10939522, -0.97141958],\n",
              "       [ 2.2209707 ,  0.85756632, -0.92122289,  0.65433901],\n",
              "       [-0.33446369,  0.35583665,  1.51426012,  0.24789936],\n",
              "       [-0.68293201,  0.35583665, -0.10939522, -0.97141958],\n",
              "       [-0.74101007, -1.65108204,  1.92017395, -1.37785923],\n",
              "       [ 0.59478518,  0.75722039,  1.10834628, -1.37785923],\n",
              "       [-1.08947839, -1.65108204,  1.10834628, -0.97141958],\n",
              "       [-0.33446369,  0.35583665,  1.51426012,  0.24789936],\n",
              "       [ 0.88517545,  0.35583665, -0.10939522,  1.06077865],\n",
              "       [-1.26371255,  0.35583665,  1.10834628, -0.56497993],\n",
              "       [-0.21830758, -0.84831457,  1.10834628, -0.97141958],\n",
              "       [ 0.30439491, -0.9486605 , -0.51530905, -0.15854029],\n",
              "       [-1.2056345 , -0.6476227 ,  0.70243245, -0.56497993],\n",
              "       [-0.91524423,  0.35583665,  1.51426012,  0.24789936],\n",
              "       [-1.43794672, -0.44693083, -0.10939522, -0.56497993],\n",
              "       [ 0.9432535 ,  0.35583665, -0.51530905,  0.65433901],\n",
              "       [-1.08947839, -0.54727676,  0.29651862, -0.15854029],\n",
              "       [-1.03140034, -0.44693083,  1.10834628, -1.37785923],\n",
              "       [ 0.42055102,  1.35929599, -1.73305055,  1.06077865],\n",
              "       [ 2.27904875, -0.14589303, -1.73305055,  1.87365795],\n",
              "       [ 2.39520486, -1.14935237, -1.32713672,  1.06077865],\n",
              "       [ 0.53670712,  0.85756632, -0.10939522,  0.65433901],\n",
              "       [ 1.87250237,  0.35583665, -0.10939522,  0.24789936],\n",
              "       [ 2.45328291, -0.34658489, -0.10939522, -0.56497993],\n",
              "       [-0.10215147, -1.45039017,  0.29651862, -1.37785923],\n",
              "       [-1.08947839,  0.35583665, -1.32713672,  1.87365795],\n",
              "       [-0.74101007, -1.35004424, -0.10939522,  0.24789936],\n",
              "       [-0.91524423,  0.85756632,  1.10834628, -0.15854029],\n",
              "       [-0.50869785,  0.35583665, -1.32713672,  1.87365795],\n",
              "       [-1.61218088, -0.44693083,  1.10834628, -1.37785923],\n",
              "       [-0.50869785,  0.85756632, -1.32713672,  1.87365795],\n",
              "       [ 1.29172183,  0.35583665, -0.92122289,  0.24789936],\n",
              "       [ 0.30439491,  0.55652852, -0.92122289,  0.65433901],\n",
              "       [ 0.1882388 ,  0.85756632, -1.32713672,  1.4672183 ],\n",
              "       [ 0.13016075, -0.14589303,  0.70243245,  0.24789936],\n",
              "       [ 1.29172183, -1.2496983 , -0.10939522,  1.06077865],\n",
              "       [-1.2056345 , -0.34658489,  0.29651862, -0.97141958],\n",
              "       [-0.21830758,  0.35583665,  0.29651862, -0.15854029],\n",
              "       [-0.27638563, -0.44693083,  0.29651862, -0.56497993],\n",
              "       [ 2.2209707 ,  0.85756632, -0.92122289,  2.28009759],\n",
              "       [ 0.24631685,  0.85756632,  1.51426012, -1.37785923],\n",
              "       [ 0.36247296,  0.35583665,  0.29651862, -0.15854029],\n",
              "       [-1.08947839, -0.14589303, -1.32713672,  1.4672183 ],\n",
              "       [-0.79908812, -0.84831457,  1.10834628, -0.97141958],\n",
              "       [-0.21830758,  1.35929599, -0.92122289,  1.87365795],\n",
              "       [-0.10215147,  0.35583665, -0.10939522, -0.97141958],\n",
              "       [-1.08947839,  0.75722039,  0.29651862, -0.15854029],\n",
              "       [ 0.88517545, -0.14589303, -0.10939522,  0.65433901],\n",
              "       [-0.21830758, -0.6476227 , -0.10939522, -0.15854029],\n",
              "       [ 0.30439491, -0.14589303, -0.10939522,  1.06077865],\n",
              "       [-1.14755645,  0.35583665, -1.32713672,  0.65433901],\n",
              "       [-1.2056345 ,  1.76067973, -1.73305055,  1.87365795],\n",
              "       [ 1.11748767,  0.35583665, -0.92122289, -0.15854029],\n",
              "       [-1.8444931 , -1.45039017, -0.10939522, -0.97141958],\n",
              "       [ 1.46595599,  1.86102566, -0.92122289,  0.24789936],\n",
              "       [ 0.13016075, -0.14589303,  0.70243245, -0.56497993],\n",
              "       [ 0.01400464,  1.35929599, -1.32713672,  0.65433901],\n",
              "       [ 0.36247296,  1.35929599, -0.92122289,  1.87365795],\n",
              "       [-0.68293201,  0.35583665, -1.73305055,  0.24789936],\n",
              "       [ 0.13016075,  0.15514478,  1.10834628, -0.97141958],\n",
              "       [-0.50869785, -0.44693083,  1.10834628, -0.97141958],\n",
              "       [ 0.8270974 ,  1.86102566,  1.51426012, -1.37785923],\n",
              "       [ 0.47862907, -0.14589303, -1.73305055, -0.15854029],\n",
              "       [-0.68293201, -1.35004424, -0.10939522, -0.97141958],\n",
              "       [-0.50869785, -0.04554709, -0.51530905, -0.97141958],\n",
              "       [-0.74101007,  0.85756632, -0.51530905,  1.87365795],\n",
              "       [ 1.69826821,  1.86102566, -0.92122289,  0.24789936],\n",
              "       [-0.50869785,  0.85756632, -0.51530905,  1.87365795]])"
            ]
          },
          "metadata": {},
          "execution_count": 59
        }
      ]
    },
    {
      "cell_type": "code",
      "source": [
        "#𝘕𝘰𝘳𝘮𝘢𝘭𝘪𝘻𝘦𝘥 𝘵𝘦𝘴𝘵𝘪𝘯𝘨 𝘥𝘢𝘵𝘢\n",
        "x_test"
      ],
      "metadata": {
        "colab": {
          "base_uri": "https://localhost:8080/"
        },
        "id": "vjtULA4rWm3N",
        "outputId": "f1b7df4c-d00f-453b-aae7-919277ebb9e2"
      },
      "execution_count": 60,
      "outputs": [
        {
          "output_type": "execute_result",
          "data": {
            "text/plain": [
              "array([[ 1.52403405, -0.6476227 ,  0.70243245,  1.06077865],\n",
              "       [-1.49602477,  0.35583665,  1.10834628, -0.15854029],\n",
              "       [-0.85716618, -0.84831457,  1.10834628, -0.97141958],\n",
              "       [-0.62485396, -0.34658489, -0.10939522, -0.56497993],\n",
              "       [ 0.53670712, -1.45039017,  0.29651862, -1.37785923],\n",
              "       [-0.27638563,  0.55652852, -0.92122289,  0.65433901],\n",
              "       [-0.5667759 ,  0.35583665, -1.32713672,  0.65433901],\n",
              "       [ 2.3371268 ,  0.35583665, -0.10939522,  0.24789936],\n",
              "       [ 0.36247296, -0.14589303,  0.29651862, -0.56497993],\n",
              "       [-0.68293201,  0.35583665,  0.29651862, -0.56497993],\n",
              "       [ 1.75634626, -1.35004424, -1.32713672,  1.06077865],\n",
              "       [ 1.52403405,  0.35583665, -0.51530905,  0.65433901],\n",
              "       [ 0.01400464, -0.44693083,  1.10834628, -1.37785923],\n",
              "       [-0.10215147, -1.14935237, -0.10939522,  0.24789936],\n",
              "       [-0.4506198 ,  0.15514478,  1.10834628, -0.97141958],\n",
              "       [-0.62485396,  0.85756632, -1.73305055,  1.87365795],\n",
              "       [-0.62485396, -0.34658489,  0.29651862, -0.97141958],\n",
              "       [ 0.47862907, -1.14935237,  1.10834628, -0.15854029],\n",
              "       [ 0.30439491,  0.15514478, -0.51530905,  0.65433901],\n",
              "       [ 2.3371268 ,  0.35583665, -0.10939522,  0.65433901],\n",
              "       [ 0.88517545, -1.14935237, -0.51530905, -0.15854029],\n",
              "       [-0.85716618, -0.44693083, -0.10939522, -0.56497993],\n",
              "       [-1.08947839,  0.35583665, -1.32713672,  0.65433901],\n",
              "       [ 0.30439491, -0.44693083,  0.29651862,  1.06077865],\n",
              "       [-0.62485396,  1.76067973, -1.73305055,  1.87365795],\n",
              "       [ 0.59478518, -0.14589303, -1.73305055,  2.28009759],\n",
              "       [ 0.8270974 ,  0.85756632,  1.51426012, -0.97141958],\n",
              "       [-1.08947839, -0.14589303,  1.92017395, -1.37785923],\n",
              "       [-1.32179061, -0.14589303, -0.92122289, -0.15854029],\n",
              "       [ 1.75634626,  0.35583665, -0.10939522,  0.24789936],\n",
              "       [-0.39254174,  0.35583665, -1.32713672,  1.4672183 ],\n",
              "       [-0.68293201,  0.15514478, -0.51530905,  0.65433901],\n",
              "       [-0.50869785,  0.35583665,  0.29651862,  0.65433901],\n",
              "       [ 0.53670712,  0.35583665, -0.92122289, -0.15854029],\n",
              "       [-1.26371255, -1.45039017, -0.10939522, -0.97141958],\n",
              "       [ 1.29172183,  0.35583665, -0.10939522,  0.24789936]])"
            ]
          },
          "metadata": {},
          "execution_count": 60
        }
      ]
    },
    {
      "cell_type": "markdown",
      "source": [
        "1) K-Nearest Neighbors algorithm(KNN)::"
      ],
      "metadata": {
        "id": "FfCe3lyxWvIU"
      }
    },
    {
      "cell_type": "code",
      "source": [
        "from sklearn.neighbors import KNeighborsClassifier\n",
        "knn=KNeighborsClassifier(n_neighbors=7)\n",
        "knn.fit(x_train,y_train)\n",
        "#𝘗𝘳𝘦𝘥𝘪𝘤𝘵𝘪𝘯𝘨 𝘶𝘴𝘪𝘯𝘨 𝘵𝘦𝘴𝘵 𝘥𝘢𝘵𝘢\n",
        "y_pred_knn=knn.predict(x_test)\n",
        "y_pred_knn"
      ],
      "metadata": {
        "colab": {
          "base_uri": "https://localhost:8080/"
        },
        "id": "MkHItgLhWpkt",
        "outputId": "84079bc0-453c-411b-9bc8-c5ad0af0d6f2"
      },
      "execution_count": 61,
      "outputs": [
        {
          "output_type": "execute_result",
          "data": {
            "text/plain": [
              "array([1, 0, 0, 0, 0, 1, 1, 1, 1, 0, 1, 1, 0, 0, 0, 1, 0, 0, 1, 1, 1, 0,\n",
              "       1, 1, 1, 1, 0, 0, 0, 1, 1, 1, 1, 1, 0, 1])"
            ]
          },
          "metadata": {},
          "execution_count": 61
        }
      ]
    },
    {
      "cell_type": "code",
      "source": [
        "y_test"
      ],
      "metadata": {
        "colab": {
          "base_uri": "https://localhost:8080/"
        },
        "id": "7SvBVLnOWySw",
        "outputId": "93630ac5-062a-4752-d07a-85ccd0621838"
      },
      "execution_count": 62,
      "outputs": [
        {
          "output_type": "execute_result",
          "data": {
            "text/plain": [
              "array([1, 0, 0, 0, 0, 1, 1, 1, 0, 0, 1, 1, 0, 1, 0, 1, 0, 0, 1, 1, 1, 0,\n",
              "       1, 0, 1, 0, 0, 0, 1, 1, 1, 1, 1, 1, 0, 1])"
            ]
          },
          "metadata": {},
          "execution_count": 62
        }
      ]
    },
    {
      "cell_type": "markdown",
      "source": [
        "PERFORMANCE EVALUATION"
      ],
      "metadata": {
        "id": "__ihWeozW2B7"
      }
    },
    {
      "cell_type": "code",
      "source": [
        "from sklearn.metrics import confusion_matrix,accuracy_score,ConfusionMatrixDisplay,classification_report\n",
        "#𝘤𝘰𝘯𝘧𝘶𝘴𝘪𝘰𝘯_𝘮𝘢𝘵𝘳𝘪𝘹\n",
        "matx=confusion_matrix(y_pred_knn,y_test)\n",
        "print(matx)"
      ],
      "metadata": {
        "colab": {
          "base_uri": "https://localhost:8080/"
        },
        "id": "jiQSX3AwW0Pm",
        "outputId": "91687afa-ecbd-4524-96e6-776e87710042"
      },
      "execution_count": 63,
      "outputs": [
        {
          "output_type": "stream",
          "name": "stdout",
          "text": [
            "[[13  2]\n",
            " [ 3 18]]\n"
          ]
        }
      ]
    },
    {
      "cell_type": "code",
      "source": [
        "#𝘢𝘤𝘤𝘶𝘳𝘢𝘤𝘺_𝘴𝘤𝘰𝘳𝘦\n",
        "score1=accuracy_score(y_pred_knn,y_test)\n",
        "score1"
      ],
      "metadata": {
        "colab": {
          "base_uri": "https://localhost:8080/"
        },
        "id": "7U_oR6gdW4Wv",
        "outputId": "72eec7c9-2c94-41f0-da51-834f712e6841"
      },
      "execution_count": 64,
      "outputs": [
        {
          "output_type": "execute_result",
          "data": {
            "text/plain": [
              "0.8611111111111112"
            ]
          },
          "metadata": {},
          "execution_count": 64
        }
      ]
    },
    {
      "cell_type": "code",
      "source": [
        "from sklearn.metrics import precision_score, recall_score, f1_score\n",
        "precision_1 = precision_score(y_pred_knn,y_test)\n",
        "recall_1 = recall_score(y_pred_knn,y_test)\n",
        "f1_1 = f1_score(y_pred_knn,y_test)\n",
        "\n",
        "print(\"Precision_1:\", precision_1)\n",
        "print(\"Recall_1:\", recall_1)\n",
        "print(\"F1 Score_1:\", f1_1)"
      ],
      "metadata": {
        "colab": {
          "base_uri": "https://localhost:8080/"
        },
        "id": "w79SzW4nmpaV",
        "outputId": "fa6549a3-44cd-4a12-e302-cf13cd63524c"
      },
      "execution_count": 91,
      "outputs": [
        {
          "output_type": "stream",
          "name": "stdout",
          "text": [
            "Precision_1: 0.9\n",
            "Recall_1: 0.8571428571428571\n",
            "F1 Score_1: 0.8780487804878048\n"
          ]
        }
      ]
    },
    {
      "cell_type": "code",
      "source": [
        "#𝘤𝘰𝘯𝘧𝘶𝘴𝘪𝘰𝘯 𝘮𝘢𝘵𝘳𝘪𝘹 𝘥𝘪𝘴𝘱𝘭𝘢𝘺\n",
        "labels=[0,1]\n",
        "cmd=ConfusionMatrixDisplay(matx,display_labels=labels)\n",
        "cmd.plot()"
      ],
      "metadata": {
        "colab": {
          "base_uri": "https://localhost:8080/",
          "height": 473
        },
        "id": "Q0McobqrW9R3",
        "outputId": "36ccd109-4c49-4392-fdea-0bdebc30c054"
      },
      "execution_count": 66,
      "outputs": [
        {
          "output_type": "execute_result",
          "data": {
            "text/plain": [
              "<sklearn.metrics._plot.confusion_matrix.ConfusionMatrixDisplay at 0x7f21cb6adb70>"
            ]
          },
          "metadata": {},
          "execution_count": 66
        },
        {
          "output_type": "display_data",
          "data": {
            "text/plain": [
              "<Figure size 640x480 with 2 Axes>"
            ],
            "image/png": "[encoded data removed]"
          },
          "metadata": {}
        }
      ]
    },
    {
      "cell_type": "markdown",
      "source": [
        "2) Naive Bayes algorithm"
      ],
      "metadata": {
        "id": "XoU30tQ9XDJR"
      }
    },
    {
      "cell_type": "code",
      "source": [
        "from sklearn.naive_bayes import GaussianNB\n",
        "model=GaussianNB()\n",
        "model.fit(x_train,y_train)\n",
        "y_pred_nvb=model.predict(x_test)\n",
        "y_pred_nvb"
      ],
      "metadata": {
        "colab": {
          "base_uri": "https://localhost:8080/"
        },
        "id": "QFjWh0L-XAdy",
        "outputId": "d1e2fbb7-a23a-45d1-e56d-ac8d3535b03d"
      },
      "execution_count": 67,
      "outputs": [
        {
          "output_type": "execute_result",
          "data": {
            "text/plain": [
              "array([1, 0, 0, 0, 0, 1, 1, 1, 0, 0, 1, 1, 0, 0, 0, 1, 0, 0, 1, 1, 1, 0,\n",
              "       1, 1, 1, 1, 0, 0, 0, 1, 1, 1, 1, 1, 0, 1])"
            ]
          },
          "metadata": {},
          "execution_count": 67
        }
      ]
    },
    {
      "cell_type": "code",
      "source": [
        "y_test"
      ],
      "metadata": {
        "colab": {
          "base_uri": "https://localhost:8080/"
        },
        "id": "vdiargn0XFoO",
        "outputId": "f1fd5f26-e7b2-4e21-c671-0ff43297d8d6"
      },
      "execution_count": 68,
      "outputs": [
        {
          "output_type": "execute_result",
          "data": {
            "text/plain": [
              "array([1, 0, 0, 0, 0, 1, 1, 1, 0, 0, 1, 1, 0, 1, 0, 1, 0, 0, 1, 1, 1, 0,\n",
              "       1, 0, 1, 0, 0, 0, 1, 1, 1, 1, 1, 1, 0, 1])"
            ]
          },
          "metadata": {},
          "execution_count": 68
        }
      ]
    },
    {
      "cell_type": "markdown",
      "source": [
        "PERFORMANCE EVALUATION"
      ],
      "metadata": {
        "id": "rMT4ZxQ2XJto"
      }
    },
    {
      "cell_type": "code",
      "source": [
        "#𝘤𝘰𝘯𝘧𝘶𝘴𝘪𝘰𝘯_𝘮𝘢𝘵𝘳𝘪𝘹\n",
        "matr=confusion_matrix(y_pred_nvb,y_test)\n",
        "print(matr)"
      ],
      "metadata": {
        "colab": {
          "base_uri": "https://localhost:8080/"
        },
        "id": "TbC_NDgCXH73",
        "outputId": "58ba80b9-fd8f-4272-e184-76b5177a8f9f"
      },
      "execution_count": 69,
      "outputs": [
        {
          "output_type": "stream",
          "name": "stdout",
          "text": [
            "[[14  2]\n",
            " [ 2 18]]\n"
          ]
        }
      ]
    },
    {
      "cell_type": "code",
      "source": [
        "#𝘢𝘤𝘤𝘶𝘳𝘢𝘤𝘺_𝘴𝘤𝘰𝘳𝘦\n",
        "score2=accuracy_score(y_pred_nvb,y_test)\n",
        "score2"
      ],
      "metadata": {
        "colab": {
          "base_uri": "https://localhost:8080/"
        },
        "id": "zJPrueouXL9g",
        "outputId": "45a3d21d-d9d4-400e-c250-2bae61f9c2ac"
      },
      "execution_count": 70,
      "outputs": [
        {
          "output_type": "execute_result",
          "data": {
            "text/plain": [
              "0.8888888888888888"
            ]
          },
          "metadata": {},
          "execution_count": 70
        }
      ]
    },
    {
      "cell_type": "code",
      "source": [
        "from sklearn.metrics import precision_score, recall_score, f1_score\n",
        "precision_2 = precision_score(y_pred_nvb,y_test)\n",
        "recall_2 = recall_score(y_pred_nvb,y_test)\n",
        "f1_2 = f1_score(y_pred_nvb,y_test)\n",
        "\n",
        "print(\"Precision_2:\", precision_2)\n",
        "print(\"Recall_2:\", recall_2)\n",
        "print(\"F1 Score_2:\", f1_2)"
      ],
      "metadata": {
        "colab": {
          "base_uri": "https://localhost:8080/"
        },
        "id": "GyIjxHArXN_X",
        "outputId": "f2c56bb8-0e04-442f-aef3-f0f307ebb34f"
      },
      "execution_count": 71,
      "outputs": [
        {
          "output_type": "stream",
          "name": "stdout",
          "text": [
            "Precision_2: 0.9\n",
            "Recall_2: 0.9\n",
            "F1 Score_2: 0.9\n"
          ]
        }
      ]
    },
    {
      "cell_type": "code",
      "source": [
        "#𝘤𝘰𝘯𝘧𝘶𝘴𝘪𝘰𝘯 𝘮𝘢𝘵𝘳𝘪𝘹 𝘥𝘪𝘴𝘱𝘭𝘢𝘺\n",
        "labels=[0,1]\n",
        "cmd=ConfusionMatrixDisplay(matr,display_labels=labels)\n",
        "cmd.plot()"
      ],
      "metadata": {
        "colab": {
          "base_uri": "https://localhost:8080/",
          "height": 473
        },
        "id": "nNfA_kK7XPpz",
        "outputId": "2036581e-ca72-4414-c965-20bad5a75a25"
      },
      "execution_count": 72,
      "outputs": [
        {
          "output_type": "execute_result",
          "data": {
            "text/plain": [
              "<sklearn.metrics._plot.confusion_matrix.ConfusionMatrixDisplay at 0x7f21cb6ac6d0>"
            ]
          },
          "metadata": {},
          "execution_count": 72
        },
        {
          "output_type": "display_data",
          "data": {
            "text/plain": [
              "<Figure size 640x480 with 2 Axes>"
            ],
            "image/png": "[encoded data removed]"
          },
          "metadata": {}
        }
      ]
    },
    {
      "cell_type": "markdown",
      "source": [
        "3) Support Vector Machine algorithm(SVM)"
      ],
      "metadata": {
        "id": "-cGwJnLbXUXz"
      }
    },
    {
      "cell_type": "code",
      "source": [
        "from sklearn.svm import SVC\n",
        "model1=SVC()\n",
        "model1.fit(x_train,y_train)\n",
        "y_pred_svm=model1.predict(x_test)\n",
        "y_pred_svm"
      ],
      "metadata": {
        "colab": {
          "base_uri": "https://localhost:8080/"
        },
        "id": "uloJ257YXR1o",
        "outputId": "36c29d9b-6e9d-4709-b495-76297a674210"
      },
      "execution_count": 73,
      "outputs": [
        {
          "output_type": "execute_result",
          "data": {
            "text/plain": [
              "array([1, 0, 0, 0, 0, 1, 1, 1, 0, 0, 1, 1, 0, 0, 0, 1, 0, 0, 1, 1, 1, 0,\n",
              "       1, 1, 1, 1, 0, 0, 0, 1, 1, 1, 1, 1, 0, 1])"
            ]
          },
          "metadata": {},
          "execution_count": 73
        }
      ]
    },
    {
      "cell_type": "markdown",
      "source": [
        "PERFORMANCE EVALUATION"
      ],
      "metadata": {
        "id": "SnuWfdfyXa5F"
      }
    },
    {
      "cell_type": "code",
      "source": [
        "#𝘤𝘰𝘯𝘧𝘶𝘴𝘪𝘰𝘯_𝘮𝘢𝘵𝘳𝘪𝘹\n",
        "mat=confusion_matrix(y_test,y_pred_svm)\n",
        "print(mat)"
      ],
      "metadata": {
        "colab": {
          "base_uri": "https://localhost:8080/"
        },
        "id": "f9l9Cu71XY9T",
        "outputId": "a77a4c7e-94ff-40f7-9a1c-4fb3509f4efc"
      },
      "execution_count": 74,
      "outputs": [
        {
          "output_type": "stream",
          "name": "stdout",
          "text": [
            "[[14  2]\n",
            " [ 2 18]]\n"
          ]
        }
      ]
    },
    {
      "cell_type": "code",
      "source": [
        "#𝘢𝘤𝘤𝘶𝘳𝘢𝘤𝘺_𝘴𝘤𝘰𝘳𝘦\n",
        "score3=accuracy_score(y_pred_svm,y_test)\n",
        "score3"
      ],
      "metadata": {
        "colab": {
          "base_uri": "https://localhost:8080/"
        },
        "id": "_zGxldK_XckU",
        "outputId": "58d3dc24-a230-4d78-b9a9-8368471aaebc"
      },
      "execution_count": 75,
      "outputs": [
        {
          "output_type": "execute_result",
          "data": {
            "text/plain": [
              "0.8888888888888888"
            ]
          },
          "metadata": {},
          "execution_count": 75
        }
      ]
    },
    {
      "cell_type": "code",
      "source": [
        "from sklearn.metrics import precision_score, recall_score, f1_score\n",
        "precision_3 = precision_score(y_pred_svm,y_test)\n",
        "recall_3 = recall_score(y_pred_svm,y_test)\n",
        "f1_3 = f1_score(y_pred_svm,y_test)\n",
        "\n",
        "print(\"Precision_3:\", precision_3)\n",
        "print(\"Recall_3:\", recall_3)\n",
        "print(\"F1 Score_3:\", f1_3)"
      ],
      "metadata": {
        "id": "sIGq9xGoXecs",
        "outputId": "045102eb-a8bc-4205-b9a9-0f47d7145be7",
        "colab": {
          "base_uri": "https://localhost:8080/"
        }
      },
      "execution_count": 76,
      "outputs": [
        {
          "output_type": "stream",
          "name": "stdout",
          "text": [
            "Precision_3: 0.9\n",
            "Recall_3: 0.9\n",
            "F1 Score_3: 0.9\n"
          ]
        }
      ]
    },
    {
      "cell_type": "code",
      "source": [
        "#𝘤𝘰𝘯𝘧𝘶𝘴𝘪𝘰𝘯 𝘮𝘢𝘵𝘳𝘪𝘹 𝘥𝘪𝘴𝘱𝘭𝘢𝘺\n",
        "labels=[0,1]\n",
        "cmd=ConfusionMatrixDisplay(mat,display_labels=labels)\n",
        "cmd.plot()"
      ],
      "metadata": {
        "id": "TIeOvS1ZXgL8",
        "outputId": "0747f287-7626-411d-e957-56b49f959e1d",
        "colab": {
          "base_uri": "https://localhost:8080/",
          "height": 473
        }
      },
      "execution_count": 77,
      "outputs": [
        {
          "output_type": "execute_result",
          "data": {
            "text/plain": [
              "<sklearn.metrics._plot.confusion_matrix.ConfusionMatrixDisplay at 0x7f21cb6ad810>"
            ]
          },
          "metadata": {},
          "execution_count": 77
        },
        {
          "output_type": "display_data",
          "data": {
            "text/plain": [
              "<Figure size 640x480 with 2 Axes>"
            ],
            "image/png": "[encoded data removed]"
          },
          "metadata": {}
        }
      ]
    },
    {
      "cell_type": "markdown",
      "source": [
        "4) Random forest"
      ],
      "metadata": {
        "id": "DsoIHPVVecwg"
      }
    },
    {
      "cell_type": "code",
      "source": [
        "from sklearn.ensemble import RandomForestClassifier\n",
        "\n",
        "# We define the model\n",
        "rfcla = RandomForestClassifier(n_estimators=100,random_state=9,n_jobs=-1)\n",
        "\n",
        "# We train model\n",
        "rfcla.fit(x_train, y_train)\n",
        "\n",
        "# We predict target values\n",
        "y_pred_rfcla = rfcla.predict(x_test)"
      ],
      "metadata": {
        "id": "1iJ2u8WuXiJK"
      },
      "execution_count": 78,
      "outputs": []
    },
    {
      "cell_type": "code",
      "source": [
        "#𝘤𝘰𝘯𝘧𝘶𝘴𝘪𝘰𝘯_𝘮𝘢𝘵𝘳𝘪𝘹\n",
        "mat=confusion_matrix(y_test,y_pred_rfcla)\n",
        "print(mat)"
      ],
      "metadata": {
        "colab": {
          "base_uri": "https://localhost:8080/"
        },
        "id": "zznWy3LnSRJD",
        "outputId": "cf7fc4b1-a65f-4bc3-adcc-8da632c59010"
      },
      "execution_count": 79,
      "outputs": [
        {
          "output_type": "stream",
          "name": "stdout",
          "text": [
            "[[14  2]\n",
            " [ 1 19]]\n"
          ]
        }
      ]
    },
    {
      "cell_type": "code",
      "source": [
        "#𝘢𝘤𝘤𝘶𝘳𝘢𝘤𝘺_𝘴𝘤𝘰𝘳𝘦\n",
        "score4=accuracy_score(y_pred_rfcla,y_test)\n",
        "score4"
      ],
      "metadata": {
        "colab": {
          "base_uri": "https://localhost:8080/"
        },
        "id": "X3DQNg2BTmA2",
        "outputId": "deb78823-4d79-47d4-cb03-3e31223bea80"
      },
      "execution_count": 80,
      "outputs": [
        {
          "output_type": "execute_result",
          "data": {
            "text/plain": [
              "0.9166666666666666"
            ]
          },
          "metadata": {},
          "execution_count": 80
        }
      ]
    },
    {
      "cell_type": "code",
      "source": [
        "from sklearn.metrics import precision_score, recall_score, f1_score\n",
        "precision_4 = precision_score(y_pred_rfcla,y_test)\n",
        "recall_4 = recall_score(y_pred_rfcla,y_test)\n",
        "f1_4 = f1_score(y_pred_rfcla,y_test)\n",
        "\n",
        "print(\"Precision_4:\", precision_4)\n",
        "print(\"Recall_4:\", recall_4)\n",
        "print(\"F1 Score_4:\", f1_4)"
      ],
      "metadata": {
        "colab": {
          "base_uri": "https://localhost:8080/"
        },
        "id": "vxU0mmV2UQuw",
        "outputId": "01241939-34f2-439a-f000-e2c210b34afe"
      },
      "execution_count": 81,
      "outputs": [
        {
          "output_type": "stream",
          "name": "stdout",
          "text": [
            "Precision_4: 0.95\n",
            "Recall_4: 0.9047619047619048\n",
            "F1 Score_4: 0.9268292682926829\n"
          ]
        }
      ]
    },
    {
      "cell_type": "code",
      "source": [
        "#𝘤𝘰𝘯𝘧𝘶𝘴𝘪𝘰𝘯 𝘮𝘢𝘵𝘳𝘪𝘹 𝘥𝘪𝘴𝘱𝘭𝘢𝘺\n",
        "labels=[0,1]\n",
        "cmd=ConfusionMatrixDisplay(mat,display_labels=labels)\n",
        "cmd.plot()"
      ],
      "metadata": {
        "colab": {
          "base_uri": "https://localhost:8080/",
          "height": 467
        },
        "id": "dmhjAdcbUXTs",
        "outputId": "13272e1c-ca5e-4abf-affd-26a2b5461032"
      },
      "execution_count": 82,
      "outputs": [
        {
          "output_type": "execute_result",
          "data": {
            "text/plain": [
              "<sklearn.metrics._plot.confusion_matrix.ConfusionMatrixDisplay at 0x7f21cae9f940>"
            ]
          },
          "metadata": {},
          "execution_count": 82
        },
        {
          "output_type": "display_data",
          "data": {
            "text/plain": [
              "<Figure size 640x480 with 2 Axes>"
            ],
            "image/png": "[encoded data removed]"
          },
          "metadata": {}
        }
      ]
    },
    {
      "cell_type": "markdown",
      "source": [
        "5) Decision tree"
      ],
      "metadata": {
        "id": "YT39cwQZeZs5"
      }
    },
    {
      "cell_type": "code",
      "source": [
        "from sklearn.tree import DecisionTreeClassifier\n",
        "\n",
        "# We define the model\n",
        "dtcla = DecisionTreeClassifier(random_state=9)\n",
        "\n",
        "# We train model\n",
        "dtcla.fit(x_train, y_train)\n",
        "\n",
        "# We predict target values\n",
        "y_pred_dtcla = dtcla.predict(x_test)"
      ],
      "metadata": {
        "id": "vLFFAlNmUfmr"
      },
      "execution_count": 83,
      "outputs": []
    },
    {
      "cell_type": "code",
      "source": [
        "#𝘤𝘰𝘯𝘧𝘶𝘴𝘪𝘰𝘯_𝘮𝘢𝘵𝘳𝘪𝘹\n",
        "mat=confusion_matrix(y_test,y_pred_dtcla)\n",
        "print(mat)"
      ],
      "metadata": {
        "colab": {
          "base_uri": "https://localhost:8080/"
        },
        "id": "RS8LXih9d_Zs",
        "outputId": "08753413-ddb2-4606-acac-190aa3eff07b"
      },
      "execution_count": 84,
      "outputs": [
        {
          "output_type": "stream",
          "name": "stdout",
          "text": [
            "[[10  6]\n",
            " [ 3 17]]\n"
          ]
        }
      ]
    },
    {
      "cell_type": "code",
      "source": [
        "#𝘢𝘤𝘤𝘶𝘳𝘢𝘤𝘺_𝘴𝘤𝘰𝘳𝘦\n",
        "score5=accuracy_score(y_pred_dtcla,y_test)\n",
        "score5"
      ],
      "metadata": {
        "colab": {
          "base_uri": "https://localhost:8080/"
        },
        "id": "6tN_xLnCeHju",
        "outputId": "d06ac282-9743-4f92-df79-2750e834420b"
      },
      "execution_count": 85,
      "outputs": [
        {
          "output_type": "execute_result",
          "data": {
            "text/plain": [
              "0.75"
            ]
          },
          "metadata": {},
          "execution_count": 85
        }
      ]
    },
    {
      "cell_type": "code",
      "source": [
        "from sklearn.metrics import precision_score, recall_score, f1_score\n",
        "precision_5 = precision_score(y_pred_dtcla,y_test)\n",
        "recall_5 = recall_score(y_pred_dtcla,y_test)\n",
        "f1_5 = f1_score(y_pred_dtcla,y_test)\n",
        "\n",
        "print(\"Precision_5:\", precision_5)\n",
        "print(\"Recall_5:\", recall_5)\n",
        "print(\"F1 Score_5:\", f1_5)"
      ],
      "metadata": {
        "colab": {
          "base_uri": "https://localhost:8080/"
        },
        "id": "ghCXprtkeLsG",
        "outputId": "54bceaad-0f74-45b2-edaa-aca9fa6022a9"
      },
      "execution_count": 86,
      "outputs": [
        {
          "output_type": "stream",
          "name": "stdout",
          "text": [
            "Precision_5: 0.85\n",
            "Recall_5: 0.7391304347826086\n",
            "F1 Score_5: 0.7906976744186046\n"
          ]
        }
      ]
    },
    {
      "cell_type": "code",
      "source": [
        "#𝘤𝘰𝘯𝘧𝘶𝘴𝘪𝘰𝘯 𝘮𝘢𝘵𝘳𝘪𝘹 𝘥𝘪𝘴𝘱𝘭𝘢𝘺\n",
        "labels=[0,1]\n",
        "cmd=ConfusionMatrixDisplay(mat,display_labels=labels)\n",
        "cmd.plot()"
      ],
      "metadata": {
        "colab": {
          "base_uri": "https://localhost:8080/",
          "height": 467
        },
        "id": "-9WkLVb6eRSK",
        "outputId": "e2acc344-5298-4b11-9669-738ccb2be638"
      },
      "execution_count": 87,
      "outputs": [
        {
          "output_type": "execute_result",
          "data": {
            "text/plain": [
              "<sklearn.metrics._plot.confusion_matrix.ConfusionMatrixDisplay at 0x7f21cae9dde0>"
            ]
          },
          "metadata": {},
          "execution_count": 87
        },
        {
          "output_type": "display_data",
          "data": {
            "text/plain": [
              "<Figure size 640x480 with 2 Axes>"
            ],
            "image/png": "[encoded data removed]"
          },
          "metadata": {}
        }
      ]
    },
    {
      "cell_type": "code",
      "source": [
        "#comparison of accuracies\n",
        "scores=[score1,score2,score3,score4,score5]\n",
        "algorithms=['knn','naive_bayes','svm','random_forest','decison_tree']\n",
        "plt.bar(algorithms,scores)\n",
        "plt.xlabel(\"algorithms\")\n",
        "plt.ylabel('accuracies')\n",
        "plt.title(\"accuracies of algorithms\")\n",
        "plt.legend()\n",
        "plt.show()"
      ],
      "metadata": {
        "id": "TN2Z6KazeVSv",
        "colab": {
          "base_uri": "https://localhost:8080/",
          "height": 510
        },
        "outputId": "9b78c986-c7df-4101-c705-fb469cbf24fd"
      },
      "execution_count": 89,
      "outputs": [
        {
          "output_type": "stream",
          "name": "stderr",
          "text": [
            "WARNING:matplotlib.legend:No artists with labels found to put in legend.  Note that artists whose label start with an underscore are ignored when legend() is called with no argument.\n"
          ]
        },
        {
          "output_type": "display_data",
          "data": {
            "text/plain": [
              "<Figure size 640x480 with 1 Axes>"
            ],
            "image/png": "[encoded data removed]"
          },
          "metadata": {}
        }
      ]
    },
    {
      "cell_type": "code",
      "source": [
        "precisions=[precision_1,precision_2,precision_3,precision_4,precision_5]\n",
        "algorithms=['knn','naive_bayes','svm','random_forest','decison_tree']\n",
        "plt.bar(algorithms,precisions)\n",
        "plt.xlabel(\"algorithms\")\n",
        "plt.ylabel('precisions')\n",
        "plt.title(\"precisions of algorithms\")\n",
        "plt.legend()\n",
        "plt.show()"
      ],
      "metadata": {
        "colab": {
          "base_uri": "https://localhost:8080/",
          "height": 510
        },
        "id": "MODvG8sprVC9",
        "outputId": "8f204b70-317a-4641-ffa2-88aeb0945064"
      },
      "execution_count": 97,
      "outputs": [
        {
          "output_type": "stream",
          "name": "stderr",
          "text": [
            "WARNING:matplotlib.legend:No artists with labels found to put in legend.  Note that artists whose label start with an underscore are ignored when legend() is called with no argument.\n"
          ]
        },
        {
          "output_type": "display_data",
          "data": {
            "text/plain": [
              "<Figure size 640x480 with 1 Axes>"
            ],
            "image/png": "[encoded data removed]"
          },
          "metadata": {}
        }
      ]
    },
    {
      "cell_type": "code",
      "source": [
        "recall=[recall_1,recall_2,recall_3,recall_4,recall_5]\n",
        "algorithms=['knn','naive_bayes','svm','random_forest','decison_tree']\n",
        "plt.bar(algorithms,recall)\n",
        "plt.xlabel(\"algorithms\")\n",
        "plt.ylabel('recall_scores')\n",
        "plt.title(\"recall_scores of algorithms\")\n",
        "plt.legend()\n",
        "plt.show()"
      ],
      "metadata": {
        "colab": {
          "base_uri": "https://localhost:8080/",
          "height": 510
        },
        "id": "ce6aNvCRsNC-",
        "outputId": "4df3b022-e44e-438f-b2f3-b59e4608430b"
      },
      "execution_count": 98,
      "outputs": [
        {
          "output_type": "stream",
          "name": "stderr",
          "text": [
            "WARNING:matplotlib.legend:No artists with labels found to put in legend.  Note that artists whose label start with an underscore are ignored when legend() is called with no argument.\n"
          ]
        },
        {
          "output_type": "display_data",
          "data": {
            "text/plain": [
              "<Figure size 640x480 with 1 Axes>"
            ],
            "image/png": "[encoded data removed]"
          },
          "metadata": {}
        }
      ]
    },
    {
      "cell_type": "code",
      "source": [
        "f1_scores=[f1_1,f1_2,f1_3,f1_4,f1_5]\n",
        "algorithms=['knn','naive_bayes','svm','random_forest','decison_tree']\n",
        "plt.bar(algorithms,f1_scores)\n",
        "plt.xlabel(\"algorithms\")\n",
        "plt.ylabel('f1_scores')\n",
        "plt.title(\"f1_scores of algorithms\")\n",
        "plt.legend()\n",
        "plt.show()"
      ],
      "metadata": {
        "colab": {
          "base_uri": "https://localhost:8080/",
          "height": 510
        },
        "id": "_jXERqR-smXy",
        "outputId": "492499a3-cba8-4238-dc19-7edde8f9f602"
      },
      "execution_count": 99,
      "outputs": [
        {
          "output_type": "stream",
          "name": "stderr",
          "text": [
            "WARNING:matplotlib.legend:No artists with labels found to put in legend.  Note that artists whose label start with an underscore are ignored when legend() is called with no argument.\n"
          ]
        },
        {
          "output_type": "display_data",
          "data": {
            "text/plain": [
              "<Figure size 640x480 with 1 Axes>"
            ],
            "image/png": "[encoded data removed]"
          },
          "metadata": {}
        }
      ]
    },
    {
      "cell_type": "code",
      "source": [],
      "metadata": {
        "id": "Y5MgT_N_uIXS"
      },
      "execution_count": null,
      "outputs": []
    }
  ]
}